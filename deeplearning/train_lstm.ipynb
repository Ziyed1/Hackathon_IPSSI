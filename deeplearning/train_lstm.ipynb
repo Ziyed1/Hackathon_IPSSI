{
 "cells": [
  {
   "cell_type": "markdown",
   "source": [
    "# Data preparation"
   ],
   "metadata": {
    "collapsed": false
   },
   "id": "232584c554b47824"
  },
  {
   "cell_type": "code",
   "outputs": [],
   "source": [
    "import numpy as np\n",
    "import pandas as pd\n",
    "import plotly.express as px"
   ],
   "metadata": {
    "collapsed": false,
    "ExecuteTime": {
     "end_time": "2024-05-28T08:01:54.756471600Z",
     "start_time": "2024-05-28T08:01:54.743958600Z"
    }
   },
   "id": "37aed7d61e400ae",
   "execution_count": 11
  },
  {
   "cell_type": "markdown",
   "source": [
    "# Athletes"
   ],
   "metadata": {
    "collapsed": false
   },
   "id": "34ca632ceda29800"
  },
  {
   "cell_type": "code",
   "outputs": [
    {
     "data": {
      "text/plain": "athlete_url                 0\nathlete_full_name           0\ngames_participations        0\nfirst_game                 22\nathlete_year_birth       2456\nathlete_medals          60552\nbio                     53062\ndtype: int64"
     },
     "execution_count": 12,
     "metadata": {},
     "output_type": "execute_result"
    }
   ],
   "source": [
    "dataset_athlete = pd.read_json('../olympic_athletes.json')\n",
    "dataset_athlete.head()\n",
    "dataset_athlete.shape\n",
    "dataset_athlete.isnull().sum()"
   ],
   "metadata": {
    "collapsed": false,
    "ExecuteTime": {
     "end_time": "2024-05-28T08:01:55.420274200Z",
     "start_time": "2024-05-28T08:01:54.759473Z"
    }
   },
   "id": "1c3580f6df6e3e83",
   "execution_count": 12
  },
  {
   "cell_type": "markdown",
   "source": [
    "# Hotes"
   ],
   "metadata": {
    "collapsed": false
   },
   "id": "7d4eec88c27ba3cd"
  },
  {
   "cell_type": "code",
   "outputs": [
    {
     "data": {
      "text/plain": "game_slug          0\ngame_end_date      0\ngame_start_date    0\ngame_location      0\ngame_name          0\ngame_season        0\ngame_year          0\ndtype: int64"
     },
     "execution_count": 13,
     "metadata": {},
     "output_type": "execute_result"
    }
   ],
   "source": [
    "dataset_hosts = pd.read_xml('../olympic_hosts.xml')\n",
    "dataset_hosts.head()\n",
    "dataset_hosts.shape\n",
    "dataset_hosts.columns\n",
    "dataset_hosts.drop(['index'], axis=1, inplace=True)\n",
    "dataset_hosts.columns\n",
    "dataset_hosts.isnull().sum()"
   ],
   "metadata": {
    "collapsed": false,
    "ExecuteTime": {
     "end_time": "2024-05-28T08:01:55.437366200Z",
     "start_time": "2024-05-28T08:01:55.423272200Z"
    }
   },
   "id": "a9db12a89796c61c",
   "execution_count": 13
  },
  {
   "cell_type": "markdown",
   "source": [
    "# Medailles"
   ],
   "metadata": {
    "collapsed": false
   },
   "id": "9246e08ee6ab9548"
  },
  {
   "cell_type": "code",
   "outputs": [
    {
     "data": {
      "text/plain": "      discipline_title    game_slug                      event_title  \\\n21692    Weightlifting  athens-1896  heavyweight - one hand lift men   \n21693    Weightlifting  athens-1896  heavyweight - one hand lift men   \n21694    Weightlifting  athens-1896  heavyweight - two hand lift men   \n21695    Weightlifting  athens-1896  heavyweight - two hand lift men   \n21696    Weightlifting  athens-1896  heavyweight - two hand lift men   \n\n      event_gender medal_type participant_type        athlete_full_name  \\\n21692          Men     SILVER          Athlete             Viggo JENSEN   \n21693          Men     BRONZE          Athlete  Alexandros Nikolopoulos   \n21694          Men       GOLD          Athlete             Viggo JENSEN   \n21695          Men     SILVER          Athlete        Launceston ELLIOT   \n21696          Men     BRONZE          Athlete          Sotirios VERSIS   \n\n        country_name country_code country_3_letter_code  \n21692        Denmark           DK                   DEN  \n21693         Greece           GR                   GRE  \n21694        Denmark           DK                   DEN  \n21695  Great Britain           GB                   GBR  \n21696         Greece           GR                   GRE  ",
      "text/html": "<div>\n<style scoped>\n    .dataframe tbody tr th:only-of-type {\n        vertical-align: middle;\n    }\n\n    .dataframe tbody tr th {\n        vertical-align: top;\n    }\n\n    .dataframe thead th {\n        text-align: right;\n    }\n</style>\n<table border=\"1\" class=\"dataframe\">\n  <thead>\n    <tr style=\"text-align: right;\">\n      <th></th>\n      <th>discipline_title</th>\n      <th>game_slug</th>\n      <th>event_title</th>\n      <th>event_gender</th>\n      <th>medal_type</th>\n      <th>participant_type</th>\n      <th>athlete_full_name</th>\n      <th>country_name</th>\n      <th>country_code</th>\n      <th>country_3_letter_code</th>\n    </tr>\n  </thead>\n  <tbody>\n    <tr>\n      <th>21692</th>\n      <td>Weightlifting</td>\n      <td>athens-1896</td>\n      <td>heavyweight - one hand lift men</td>\n      <td>Men</td>\n      <td>SILVER</td>\n      <td>Athlete</td>\n      <td>Viggo JENSEN</td>\n      <td>Denmark</td>\n      <td>DK</td>\n      <td>DEN</td>\n    </tr>\n    <tr>\n      <th>21693</th>\n      <td>Weightlifting</td>\n      <td>athens-1896</td>\n      <td>heavyweight - one hand lift men</td>\n      <td>Men</td>\n      <td>BRONZE</td>\n      <td>Athlete</td>\n      <td>Alexandros Nikolopoulos</td>\n      <td>Greece</td>\n      <td>GR</td>\n      <td>GRE</td>\n    </tr>\n    <tr>\n      <th>21694</th>\n      <td>Weightlifting</td>\n      <td>athens-1896</td>\n      <td>heavyweight - two hand lift men</td>\n      <td>Men</td>\n      <td>GOLD</td>\n      <td>Athlete</td>\n      <td>Viggo JENSEN</td>\n      <td>Denmark</td>\n      <td>DK</td>\n      <td>DEN</td>\n    </tr>\n    <tr>\n      <th>21695</th>\n      <td>Weightlifting</td>\n      <td>athens-1896</td>\n      <td>heavyweight - two hand lift men</td>\n      <td>Men</td>\n      <td>SILVER</td>\n      <td>Athlete</td>\n      <td>Launceston ELLIOT</td>\n      <td>Great Britain</td>\n      <td>GB</td>\n      <td>GBR</td>\n    </tr>\n    <tr>\n      <th>21696</th>\n      <td>Weightlifting</td>\n      <td>athens-1896</td>\n      <td>heavyweight - two hand lift men</td>\n      <td>Men</td>\n      <td>BRONZE</td>\n      <td>Athlete</td>\n      <td>Sotirios VERSIS</td>\n      <td>Greece</td>\n      <td>GR</td>\n      <td>GRE</td>\n    </tr>\n  </tbody>\n</table>\n</div>"
     },
     "execution_count": 14,
     "metadata": {},
     "output_type": "execute_result"
    }
   ],
   "source": [
    "dataset_medals = pd.read_excel('../olympic_medals.xlsx')\n",
    "dataset_medals.shape\n",
    "dataset_medals.isnull().sum()\n",
    "dataset_medals.duplicated().sum()\n",
    "dataset_medals.columns\n",
    "dataset_medals = dataset_medals.rename({'slug_game': 'game_slug'}, axis=1)\n",
    "dataset_medals.columns\n",
    "dataset_medals.loc[(dataset_medals.duplicated())]\n",
    "dataset_medals.loc[(dataset_medals.game_slug == 'paris-1900') & (dataset_medals.discipline_title == 'Polo')]\n",
    "dataset_medals.loc[(dataset_medals.game_slug == 'london-1908') & (dataset_medals.discipline_title == 'Polo')]\n",
    "dataset_medals.loc[(dataset_medals.game_slug == 'london-1908') & (dataset_medals.discipline_title == 'Hockey') & (\n",
    "        dataset_medals.event_title == 'hockey men')]\n",
    "dataset_medals.participant_title.unique()\n",
    "dataset_medals.drop(['Unnamed: 0', 'participant_title', 'athlete_url'], axis=1, inplace=True)\n",
    "dataset_medals.tail()"
   ],
   "metadata": {
    "collapsed": false,
    "ExecuteTime": {
     "end_time": "2024-05-28T08:02:01.233542500Z",
     "start_time": "2024-05-28T08:01:55.439873400Z"
    }
   },
   "id": "e4d8f1e8ba6134c8",
   "execution_count": 14
  },
  {
   "cell_type": "markdown",
   "source": [
    "# Results"
   ],
   "metadata": {
    "collapsed": false
   },
   "id": "d1dce879e023190d"
  },
  {
   "cell_type": "code",
   "outputs": [
    {
     "data": {
      "text/plain": "Index(['discipline_title', 'event_title', 'game_slug', 'participant_type',\n       'medal_type', 'athletes', 'rank_equal', 'rank_position', 'country_name',\n       'country_code', 'country_3_letter_code', 'athlete_full_name',\n       'value_unit', 'value_type'],\n      dtype='object')"
     },
     "execution_count": 15,
     "metadata": {},
     "output_type": "execute_result"
    }
   ],
   "source": [
    "dataset_results = pd.read_html('../olympic_results.html')[0]\n",
    "dataset_results.head()\n",
    "dataset_results.shape\n",
    "dataset_results.isnull().sum()\n",
    "dataset_results.duplicated().sum()\n",
    "dataset_results.loc[(dataset_results.duplicated())]\n",
    "dataset_results.value_unit.unique()\n",
    "dataset_results.value_type.unique()\n",
    "dataset_results.drop(['Unnamed: 0', 'athlete_url'], axis=1, inplace=True)\n",
    "dataset_results = dataset_results.rename({'slug_game': 'game_slug'}, axis=1)\n",
    "dataset_results.columns"
   ],
   "metadata": {
    "collapsed": false,
    "ExecuteTime": {
     "end_time": "2024-05-28T08:02:26.216306200Z",
     "start_time": "2024-05-28T08:02:01.237543800Z"
    }
   },
   "id": "87e7b00c159093c9",
   "execution_count": 15
  },
  {
   "cell_type": "markdown",
   "source": [
    "# Separate winter and summer games"
   ],
   "metadata": {
    "collapsed": false
   },
   "id": "42f85f9f9e34f51b"
  },
  {
   "cell_type": "code",
   "outputs": [
    {
     "data": {
      "text/plain": "array(['Winter', 'Summer'], dtype=object)"
     },
     "execution_count": 17,
     "metadata": {},
     "output_type": "execute_result"
    }
   ],
   "source": [
    "jo_types = dataset_hosts[['game_slug', 'game_season', 'game_year']]\n",
    "merged_hosts_results = dataset_results.merge(jo_types, on='game_slug')\n",
    "merged_hosts_results.head()\n",
    "merged_hosts_results.shape\n",
    "merged_hosts_results.game_season.unique()"
   ],
   "metadata": {
    "collapsed": false,
    "ExecuteTime": {
     "end_time": "2024-05-28T08:04:27.570031100Z",
     "start_time": "2024-05-28T08:04:27.520656800Z"
    }
   },
   "id": "df961b29f07d8d26",
   "execution_count": 17
  },
  {
   "cell_type": "code",
   "outputs": [],
   "source": [
    "summer_games_results = merged_hosts_results.loc[(merged_hosts_results.game_season == 'Summer')].copy()\n",
    "winter_games_results = merged_hosts_results.loc[(merged_hosts_results.game_season == 'Winter')].copy()"
   ],
   "metadata": {
    "collapsed": false,
    "ExecuteTime": {
     "end_time": "2024-05-28T08:04:28.489092800Z",
     "start_time": "2024-05-28T08:04:28.346551900Z"
    }
   },
   "id": "e21801dc647402f3",
   "execution_count": 18
  },
  {
   "cell_type": "code",
   "outputs": [
    {
     "data": {
      "text/plain": "       discipline_title             event_title       game_slug  \\\n154361       Water Polo        Water Polo Women    antwerp-1920   \n155336          Sailing                8m mixed  stockholm-1912   \n157014         Shooting    trap 125 targets men  stockholm-1912   \n157015         Shooting    trap 125 targets men  stockholm-1912   \n157016         Shooting    trap 125 targets men  stockholm-1912   \n...                 ...                     ...             ...   \n161736          Sailing  Â½-1 Ton Race Two Open      paris-1900   \n161737          Sailing  Â½-1 Ton Race Two Open      paris-1900   \n161738          Sailing  Â½-1 Ton Race Two Open      paris-1900   \n161739          Sailing  Â½-1 Ton Race Two Open      paris-1900   \n162109             Polo                polo men      paris-1900   \n\n       participant_type medal_type  \\\n154361         GameTeam        NaN   \n155336         GameTeam        NaN   \n157014          Athlete       GOLD   \n157015          Athlete     SILVER   \n157016          Athlete     BRONZE   \n...                 ...        ...   \n161736         GameTeam        NaN   \n161737         GameTeam        NaN   \n161738         GameTeam        NaN   \n161739         GameTeam        NaN   \n162109         GameTeam     BRONZE   \n\n                                                 athletes rank_equal  \\\n154361                                                NaN        NaN   \n155336                                                NaN        NaN   \n157014                                                NaN        NaN   \n157015                                                NaN        NaN   \n157016                                                NaN        NaN   \n...                                                   ...        ...   \n161736  [('LETOT LETOT', 'https://olympics.com/en/athl...        NaN   \n161737  [('LETOT LETOT', 'https://olympics.com/en/athl...        NaN   \n161738  [('LETOT LETOT', 'https://olympics.com/en/athl...        NaN   \n161739  [('LETOT LETOT', 'https://olympics.com/en/athl...        NaN   \n162109                                                NaN        NaN   \n\n       rank_position              country_name country_code  \\\n154361             1               Netherlands           NL   \n155336             5        Russian Federation           RU   \n157014             1  United States of America           US   \n157015             2                   Germany           DE   \n157016             3        Russian Federation           RU   \n...              ...                       ...          ...   \n161736           DNF                    France           FR   \n161737           DNF                    France           FR   \n161738           DNF                    France           FR   \n161739           DNF                    France           FR   \n162109             3                       MIX          NaN   \n\n       country_3_letter_code athlete_full_name value_unit value_type  \\\n154361                   NED               NaN          2      SCORE   \n155336                   RUS               NaN          0     POINTS   \n157014                   USA        Jay Graham         96     POINTS   \n157015                   GER    Alfred GOELDEL         94     POINTS   \n157016                   RUS       Harry Blaus         91     POINTS   \n...                      ...               ...        ...        ...   \n161736                   FRA               NaN        NaN        IRM   \n161737                   FRA               NaN        NaN        IRM   \n161738                   FRA               NaN        NaN        IRM   \n161739                   FRA               NaN        NaN        IRM   \n162109                   MIX               NaN        NaN        NaN   \n\n        game_year  \n154361       1920  \n155336       1912  \n157014       1912  \n157015       1912  \n157016       1912  \n...           ...  \n161736       1900  \n161737       1900  \n161738       1900  \n161739       1900  \n162109       1900  \n\n[112 rows x 15 columns]",
      "text/html": "<div>\n<style scoped>\n    .dataframe tbody tr th:only-of-type {\n        vertical-align: middle;\n    }\n\n    .dataframe tbody tr th {\n        vertical-align: top;\n    }\n\n    .dataframe thead th {\n        text-align: right;\n    }\n</style>\n<table border=\"1\" class=\"dataframe\">\n  <thead>\n    <tr style=\"text-align: right;\">\n      <th></th>\n      <th>discipline_title</th>\n      <th>event_title</th>\n      <th>game_slug</th>\n      <th>participant_type</th>\n      <th>medal_type</th>\n      <th>athletes</th>\n      <th>rank_equal</th>\n      <th>rank_position</th>\n      <th>country_name</th>\n      <th>country_code</th>\n      <th>country_3_letter_code</th>\n      <th>athlete_full_name</th>\n      <th>value_unit</th>\n      <th>value_type</th>\n      <th>game_year</th>\n    </tr>\n  </thead>\n  <tbody>\n    <tr>\n      <th>154361</th>\n      <td>Water Polo</td>\n      <td>Water Polo Women</td>\n      <td>antwerp-1920</td>\n      <td>GameTeam</td>\n      <td>NaN</td>\n      <td>NaN</td>\n      <td>NaN</td>\n      <td>1</td>\n      <td>Netherlands</td>\n      <td>NL</td>\n      <td>NED</td>\n      <td>NaN</td>\n      <td>2</td>\n      <td>SCORE</td>\n      <td>1920</td>\n    </tr>\n    <tr>\n      <th>155336</th>\n      <td>Sailing</td>\n      <td>8m mixed</td>\n      <td>stockholm-1912</td>\n      <td>GameTeam</td>\n      <td>NaN</td>\n      <td>NaN</td>\n      <td>NaN</td>\n      <td>5</td>\n      <td>Russian Federation</td>\n      <td>RU</td>\n      <td>RUS</td>\n      <td>NaN</td>\n      <td>0</td>\n      <td>POINTS</td>\n      <td>1912</td>\n    </tr>\n    <tr>\n      <th>157014</th>\n      <td>Shooting</td>\n      <td>trap 125 targets men</td>\n      <td>stockholm-1912</td>\n      <td>Athlete</td>\n      <td>GOLD</td>\n      <td>NaN</td>\n      <td>NaN</td>\n      <td>1</td>\n      <td>United States of America</td>\n      <td>US</td>\n      <td>USA</td>\n      <td>Jay Graham</td>\n      <td>96</td>\n      <td>POINTS</td>\n      <td>1912</td>\n    </tr>\n    <tr>\n      <th>157015</th>\n      <td>Shooting</td>\n      <td>trap 125 targets men</td>\n      <td>stockholm-1912</td>\n      <td>Athlete</td>\n      <td>SILVER</td>\n      <td>NaN</td>\n      <td>NaN</td>\n      <td>2</td>\n      <td>Germany</td>\n      <td>DE</td>\n      <td>GER</td>\n      <td>Alfred GOELDEL</td>\n      <td>94</td>\n      <td>POINTS</td>\n      <td>1912</td>\n    </tr>\n    <tr>\n      <th>157016</th>\n      <td>Shooting</td>\n      <td>trap 125 targets men</td>\n      <td>stockholm-1912</td>\n      <td>Athlete</td>\n      <td>BRONZE</td>\n      <td>NaN</td>\n      <td>NaN</td>\n      <td>3</td>\n      <td>Russian Federation</td>\n      <td>RU</td>\n      <td>RUS</td>\n      <td>Harry Blaus</td>\n      <td>91</td>\n      <td>POINTS</td>\n      <td>1912</td>\n    </tr>\n    <tr>\n      <th>...</th>\n      <td>...</td>\n      <td>...</td>\n      <td>...</td>\n      <td>...</td>\n      <td>...</td>\n      <td>...</td>\n      <td>...</td>\n      <td>...</td>\n      <td>...</td>\n      <td>...</td>\n      <td>...</td>\n      <td>...</td>\n      <td>...</td>\n      <td>...</td>\n      <td>...</td>\n    </tr>\n    <tr>\n      <th>161736</th>\n      <td>Sailing</td>\n      <td>Â½-1 Ton Race Two Open</td>\n      <td>paris-1900</td>\n      <td>GameTeam</td>\n      <td>NaN</td>\n      <td>[('LETOT LETOT', 'https://olympics.com/en/athl...</td>\n      <td>NaN</td>\n      <td>DNF</td>\n      <td>France</td>\n      <td>FR</td>\n      <td>FRA</td>\n      <td>NaN</td>\n      <td>NaN</td>\n      <td>IRM</td>\n      <td>1900</td>\n    </tr>\n    <tr>\n      <th>161737</th>\n      <td>Sailing</td>\n      <td>Â½-1 Ton Race Two Open</td>\n      <td>paris-1900</td>\n      <td>GameTeam</td>\n      <td>NaN</td>\n      <td>[('LETOT LETOT', 'https://olympics.com/en/athl...</td>\n      <td>NaN</td>\n      <td>DNF</td>\n      <td>France</td>\n      <td>FR</td>\n      <td>FRA</td>\n      <td>NaN</td>\n      <td>NaN</td>\n      <td>IRM</td>\n      <td>1900</td>\n    </tr>\n    <tr>\n      <th>161738</th>\n      <td>Sailing</td>\n      <td>Â½-1 Ton Race Two Open</td>\n      <td>paris-1900</td>\n      <td>GameTeam</td>\n      <td>NaN</td>\n      <td>[('LETOT LETOT', 'https://olympics.com/en/athl...</td>\n      <td>NaN</td>\n      <td>DNF</td>\n      <td>France</td>\n      <td>FR</td>\n      <td>FRA</td>\n      <td>NaN</td>\n      <td>NaN</td>\n      <td>IRM</td>\n      <td>1900</td>\n    </tr>\n    <tr>\n      <th>161739</th>\n      <td>Sailing</td>\n      <td>Â½-1 Ton Race Two Open</td>\n      <td>paris-1900</td>\n      <td>GameTeam</td>\n      <td>NaN</td>\n      <td>[('LETOT LETOT', 'https://olympics.com/en/athl...</td>\n      <td>NaN</td>\n      <td>DNF</td>\n      <td>France</td>\n      <td>FR</td>\n      <td>FRA</td>\n      <td>NaN</td>\n      <td>NaN</td>\n      <td>IRM</td>\n      <td>1900</td>\n    </tr>\n    <tr>\n      <th>162109</th>\n      <td>Polo</td>\n      <td>polo men</td>\n      <td>paris-1900</td>\n      <td>GameTeam</td>\n      <td>BRONZE</td>\n      <td>NaN</td>\n      <td>NaN</td>\n      <td>3</td>\n      <td>MIX</td>\n      <td>NaN</td>\n      <td>MIX</td>\n      <td>NaN</td>\n      <td>NaN</td>\n      <td>NaN</td>\n      <td>1900</td>\n    </tr>\n  </tbody>\n</table>\n<p>112 rows × 15 columns</p>\n</div>"
     },
     "execution_count": 19,
     "metadata": {},
     "output_type": "execute_result"
    }
   ],
   "source": [
    "summer_games_results.drop(['game_season'], axis=1, inplace=True)\n",
    "summer_games_results.head()\n",
    "summer_games_results.shape\n",
    "summer_games_results.isnull().sum()\n",
    "summer_games_results.duplicated().sum()\n",
    "dopplers = summer_games_results.loc[(summer_games_results.duplicated())]\n",
    "dopplers"
   ],
   "metadata": {
    "collapsed": false,
    "ExecuteTime": {
     "end_time": "2024-05-28T08:04:29.821910400Z",
     "start_time": "2024-05-28T08:04:29.284675100Z"
    }
   },
   "id": "7a9ecffad9ecc3e1",
   "execution_count": 19
  },
  {
   "cell_type": "markdown",
   "source": [
    "# Calculate the total number of each type of medals for each games by country"
   ],
   "metadata": {
    "collapsed": false
   },
   "id": "6789489d8ffb0e6"
  },
  {
   "cell_type": "code",
   "outputs": [
    {
     "data": {
      "text/plain": "      game_year              country_name  total_medals  gold_medals  \\\n0          1896                    Greece            47           10   \n1          1896  United States of America            20           11   \n2          1896                   Germany            13            6   \n3          1896                    France            11            5   \n4          1896             Great Britain             7            2   \n...         ...                       ...           ...          ...   \n2884       2020   Virgin Islands, British             0            0   \n2885       2020        Virgin Islands, US             0            0   \n2886       2020                     Yemen             0            0   \n2887       2020                    Zambia             0            0   \n2888       2020                  Zimbabwe             0            0   \n\n      silver_medals  bronze_medals  \n0                18             19  \n1                 7              2  \n2                 5              2  \n3                 4              2  \n4                 3              2  \n...             ...            ...  \n2884              0              0  \n2885              0              0  \n2886              0              0  \n2887              0              0  \n2888              0              0  \n\n[2889 rows x 6 columns]",
      "text/html": "<div>\n<style scoped>\n    .dataframe tbody tr th:only-of-type {\n        vertical-align: middle;\n    }\n\n    .dataframe tbody tr th {\n        vertical-align: top;\n    }\n\n    .dataframe thead th {\n        text-align: right;\n    }\n</style>\n<table border=\"1\" class=\"dataframe\">\n  <thead>\n    <tr style=\"text-align: right;\">\n      <th></th>\n      <th>game_year</th>\n      <th>country_name</th>\n      <th>total_medals</th>\n      <th>gold_medals</th>\n      <th>silver_medals</th>\n      <th>bronze_medals</th>\n    </tr>\n  </thead>\n  <tbody>\n    <tr>\n      <th>0</th>\n      <td>1896</td>\n      <td>Greece</td>\n      <td>47</td>\n      <td>10</td>\n      <td>18</td>\n      <td>19</td>\n    </tr>\n    <tr>\n      <th>1</th>\n      <td>1896</td>\n      <td>United States of America</td>\n      <td>20</td>\n      <td>11</td>\n      <td>7</td>\n      <td>2</td>\n    </tr>\n    <tr>\n      <th>2</th>\n      <td>1896</td>\n      <td>Germany</td>\n      <td>13</td>\n      <td>6</td>\n      <td>5</td>\n      <td>2</td>\n    </tr>\n    <tr>\n      <th>3</th>\n      <td>1896</td>\n      <td>France</td>\n      <td>11</td>\n      <td>5</td>\n      <td>4</td>\n      <td>2</td>\n    </tr>\n    <tr>\n      <th>4</th>\n      <td>1896</td>\n      <td>Great Britain</td>\n      <td>7</td>\n      <td>2</td>\n      <td>3</td>\n      <td>2</td>\n    </tr>\n    <tr>\n      <th>...</th>\n      <td>...</td>\n      <td>...</td>\n      <td>...</td>\n      <td>...</td>\n      <td>...</td>\n      <td>...</td>\n    </tr>\n    <tr>\n      <th>2884</th>\n      <td>2020</td>\n      <td>Virgin Islands, British</td>\n      <td>0</td>\n      <td>0</td>\n      <td>0</td>\n      <td>0</td>\n    </tr>\n    <tr>\n      <th>2885</th>\n      <td>2020</td>\n      <td>Virgin Islands, US</td>\n      <td>0</td>\n      <td>0</td>\n      <td>0</td>\n      <td>0</td>\n    </tr>\n    <tr>\n      <th>2886</th>\n      <td>2020</td>\n      <td>Yemen</td>\n      <td>0</td>\n      <td>0</td>\n      <td>0</td>\n      <td>0</td>\n    </tr>\n    <tr>\n      <th>2887</th>\n      <td>2020</td>\n      <td>Zambia</td>\n      <td>0</td>\n      <td>0</td>\n      <td>0</td>\n      <td>0</td>\n    </tr>\n    <tr>\n      <th>2888</th>\n      <td>2020</td>\n      <td>Zimbabwe</td>\n      <td>0</td>\n      <td>0</td>\n      <td>0</td>\n      <td>0</td>\n    </tr>\n  </tbody>\n</table>\n<p>2889 rows × 6 columns</p>\n</div>"
     },
     "execution_count": 20,
     "metadata": {},
     "output_type": "execute_result"
    }
   ],
   "source": [
    "summer_games_results.medal_type.unique()\n",
    "summer_games_results['medal_type'] = summer_games_results['medal_type'].fillna('None')\n",
    "summer_games_results['total_medals'] = summer_games_results['medal_type'].apply(lambda x: 0 if x == 'None' else 1)\n",
    "summer_games_results['gold_medals'] = summer_games_results['medal_type'].apply(lambda x: 1 if x == 'GOLD' else 0)\n",
    "summer_games_results['silver_medals'] = summer_games_results['medal_type'].apply(lambda x: 1 if x == 'SILVER' else 0)\n",
    "summer_games_results['bronze_medals'] = summer_games_results['medal_type'].apply(lambda x: 1 if x == 'BRONZE' else 0)\n",
    "summer_games_results\n",
    "summer_games_results.country_name.unique()\n",
    "historic_medalsbycountry = summer_games_results.groupby(['game_year', 'country_name']).agg(\n",
    "    {'total_medals': 'sum', 'gold_medals': 'sum', 'silver_medals': 'sum', 'bronze_medals': 'sum'})\n",
    "historic_medalsbycountry = historic_medalsbycountry.sort_values(by=['game_year', 'total_medals'],\n",
    "                                                                ascending=[True, False]).reset_index()\n",
    "historic_medalsbycountry"
   ],
   "metadata": {
    "collapsed": false,
    "ExecuteTime": {
     "end_time": "2024-05-28T08:06:24.595143400Z",
     "start_time": "2024-05-28T08:06:24.322859800Z"
    }
   },
   "id": "942db83774bf670d",
   "execution_count": 20
  },
  {
   "cell_type": "markdown",
   "source": [
    "# Calculate the total number of disciplines for each games by country"
   ],
   "metadata": {
    "collapsed": false
   },
   "id": "2a51806b7f7c1035"
  },
  {
   "cell_type": "code",
   "outputs": [
    {
     "data": {
      "text/plain": "      game_year              country_name  total_medals  gold_medals  \\\n0          1896                    Greece            47           10   \n1          1896  United States of America            20           11   \n2          1896                   Germany            13            6   \n3          1896                    France            11            5   \n4          1896             Great Britain             7            2   \n...         ...                       ...           ...          ...   \n2884       2020   Virgin Islands, British             0            0   \n2885       2020        Virgin Islands, US             0            0   \n2886       2020                     Yemen             0            0   \n2887       2020                    Zambia             0            0   \n2888       2020                  Zimbabwe             0            0   \n\n      silver_medals  bronze_medals  sports  epreuves  \n0                18             19      10        39  \n1                 7              2       3        17  \n2                 5              2       7        27  \n3                 4              2       7        20  \n4                 3              2       9        20  \n...             ...            ...     ...       ...  \n2884              0              0       1         2  \n2885              0              0       1         1  \n2886              0              0       2         2  \n2887              0              0       3         5  \n2888              0              0       2         2  \n\n[2889 rows x 8 columns]",
      "text/html": "<div>\n<style scoped>\n    .dataframe tbody tr th:only-of-type {\n        vertical-align: middle;\n    }\n\n    .dataframe tbody tr th {\n        vertical-align: top;\n    }\n\n    .dataframe thead th {\n        text-align: right;\n    }\n</style>\n<table border=\"1\" class=\"dataframe\">\n  <thead>\n    <tr style=\"text-align: right;\">\n      <th></th>\n      <th>game_year</th>\n      <th>country_name</th>\n      <th>total_medals</th>\n      <th>gold_medals</th>\n      <th>silver_medals</th>\n      <th>bronze_medals</th>\n      <th>sports</th>\n      <th>epreuves</th>\n    </tr>\n  </thead>\n  <tbody>\n    <tr>\n      <th>0</th>\n      <td>1896</td>\n      <td>Greece</td>\n      <td>47</td>\n      <td>10</td>\n      <td>18</td>\n      <td>19</td>\n      <td>10</td>\n      <td>39</td>\n    </tr>\n    <tr>\n      <th>1</th>\n      <td>1896</td>\n      <td>United States of America</td>\n      <td>20</td>\n      <td>11</td>\n      <td>7</td>\n      <td>2</td>\n      <td>3</td>\n      <td>17</td>\n    </tr>\n    <tr>\n      <th>2</th>\n      <td>1896</td>\n      <td>Germany</td>\n      <td>13</td>\n      <td>6</td>\n      <td>5</td>\n      <td>2</td>\n      <td>7</td>\n      <td>27</td>\n    </tr>\n    <tr>\n      <th>3</th>\n      <td>1896</td>\n      <td>France</td>\n      <td>11</td>\n      <td>5</td>\n      <td>4</td>\n      <td>2</td>\n      <td>7</td>\n      <td>20</td>\n    </tr>\n    <tr>\n      <th>4</th>\n      <td>1896</td>\n      <td>Great Britain</td>\n      <td>7</td>\n      <td>2</td>\n      <td>3</td>\n      <td>2</td>\n      <td>9</td>\n      <td>20</td>\n    </tr>\n    <tr>\n      <th>...</th>\n      <td>...</td>\n      <td>...</td>\n      <td>...</td>\n      <td>...</td>\n      <td>...</td>\n      <td>...</td>\n      <td>...</td>\n      <td>...</td>\n    </tr>\n    <tr>\n      <th>2884</th>\n      <td>2020</td>\n      <td>Virgin Islands, British</td>\n      <td>0</td>\n      <td>0</td>\n      <td>0</td>\n      <td>0</td>\n      <td>1</td>\n      <td>2</td>\n    </tr>\n    <tr>\n      <th>2885</th>\n      <td>2020</td>\n      <td>Virgin Islands, US</td>\n      <td>0</td>\n      <td>0</td>\n      <td>0</td>\n      <td>0</td>\n      <td>1</td>\n      <td>1</td>\n    </tr>\n    <tr>\n      <th>2886</th>\n      <td>2020</td>\n      <td>Yemen</td>\n      <td>0</td>\n      <td>0</td>\n      <td>0</td>\n      <td>0</td>\n      <td>2</td>\n      <td>2</td>\n    </tr>\n    <tr>\n      <th>2887</th>\n      <td>2020</td>\n      <td>Zambia</td>\n      <td>0</td>\n      <td>0</td>\n      <td>0</td>\n      <td>0</td>\n      <td>3</td>\n      <td>5</td>\n    </tr>\n    <tr>\n      <th>2888</th>\n      <td>2020</td>\n      <td>Zimbabwe</td>\n      <td>0</td>\n      <td>0</td>\n      <td>0</td>\n      <td>0</td>\n      <td>2</td>\n      <td>2</td>\n    </tr>\n  </tbody>\n</table>\n<p>2889 rows × 8 columns</p>\n</div>"
     },
     "execution_count": 21,
     "metadata": {},
     "output_type": "execute_result"
    }
   ],
   "source": [
    "historic_sportsbycountry = summer_games_results.groupby(['game_year', 'country_name', 'discipline_title']).count()\n",
    "historic_sportsbycountry\n",
    "historic_sportsbycountry = historic_sportsbycountry[['event_title']].reset_index()\n",
    "historic_sportsbycountry = historic_sportsbycountry.rename({'discipline_title': 'sports', 'event_title': 'epreuves'},\n",
    "                                                           axis=1)\n",
    "historic_sportsbycountry\n",
    "historic_sportsbycountry = historic_sportsbycountry.groupby(['game_year', 'country_name']).agg({'sports': 'count'})\n",
    "historic_sportsbycountry = historic_sportsbycountry.reset_index()\n",
    "historic_sportsbycountry\n",
    "historic_epreuvesbycountry = summer_games_results.groupby(['game_year', 'country_name', 'event_title']).count()\n",
    "historic_epreuvesbycountry\n",
    "\n",
    "historic_epreuvesbycountry = historic_epreuvesbycountry[['discipline_title']].reset_index()\n",
    "historic_epreuvesbycountry = historic_epreuvesbycountry.rename(\n",
    "    {'event_title': 'epreuves', 'discipline_title': 'participation'}, axis=1)\n",
    "historic_epreuvesbycountry = historic_epreuvesbycountry.groupby(['game_year', 'country_name']).agg(\n",
    "    {'epreuves': 'count'})\n",
    "historic_epreuvesbycountry = historic_epreuvesbycountry.reset_index()\n",
    "historic_epreuvesbycountry\n",
    "historic_olympic_data = historic_medalsbycountry.merge(historic_sportsbycountry, on=['game_year', 'country_name'])\n",
    "historic_olympic_data = historic_olympic_data.merge(historic_epreuvesbycountry, on=['game_year', 'country_name'])\n",
    "historic_olympic_data = historic_olympic_data.sort_values(by=['game_year', 'total_medals'], ascending=[True, False])\n",
    "historic_olympic_data"
   ],
   "metadata": {
    "collapsed": false,
    "ExecuteTime": {
     "end_time": "2024-05-28T08:07:09.300523300Z",
     "start_time": "2024-05-28T08:07:08.942811300Z"
    }
   },
   "id": "dc50e581f4d28c5d",
   "execution_count": 21
  },
  {
   "cell_type": "markdown",
   "source": [
    "# Save the data to ../csv/olympic_data_cleaned.csv"
   ],
   "metadata": {
    "collapsed": false
   },
   "id": "1bae1465ad3a9ff7"
  },
  {
   "cell_type": "code",
   "outputs": [],
   "source": [
    "historic_olympic_data.to_csv('../csv/olympic_data_cleaned.csv', index=False)"
   ],
   "metadata": {
    "collapsed": false,
    "ExecuteTime": {
     "end_time": "2024-05-28T08:09:47.045210600Z",
     "start_time": "2024-05-28T08:09:47.010471700Z"
    }
   },
   "id": "cb562516f21d0925",
   "execution_count": 22
  },
  {
   "cell_type": "code",
   "outputs": [],
   "source": [],
   "metadata": {
    "collapsed": false
   },
   "id": "e8b37e950a1ef53c"
  }
 ],
 "metadata": {
  "kernelspec": {
   "display_name": "Python 3",
   "language": "python",
   "name": "python3"
  },
  "language_info": {
   "codemirror_mode": {
    "name": "ipython",
    "version": 2
   },
   "file_extension": ".py",
   "mimetype": "text/x-python",
   "name": "python",
   "nbconvert_exporter": "python",
   "pygments_lexer": "ipython2",
   "version": "2.7.6"
  }
 },
 "nbformat": 4,
 "nbformat_minor": 5
}
