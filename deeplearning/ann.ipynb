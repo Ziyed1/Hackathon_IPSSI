{
 "cells": [
  {
   "cell_type": "code",
   "execution_count": 1,
   "id": "b739d189",
   "metadata": {
    "ExecuteTime": {
     "end_time": "2024-05-30T07:13:42.368018700Z",
     "start_time": "2024-05-30T07:13:38.092137200Z"
    }
   },
   "outputs": [],
   "source": [
    "import pandas as pd\n",
    "import torch\n",
    "import torch.nn as nn\n",
    "import torch.optim as optim\n",
    "from sklearn.model_selection import train_test_split\n",
    "from sklearn.preprocessing import LabelEncoder, StandardScaler\n",
    "from sklearn.impute import SimpleImputer\n",
    "import matplotlib.pyplot as plt\n",
    "import numpy as np"
   ]
  },
  {
   "cell_type": "code",
   "execution_count": 2,
   "id": "271c9299",
   "metadata": {
    "ExecuteTime": {
     "end_time": "2024-05-30T07:13:42.420007100Z",
     "start_time": "2024-05-30T07:13:42.368018700Z"
    }
   },
   "outputs": [
    {
     "name": "stdout",
     "output_type": "stream",
     "text": [
      "<class 'pandas.core.frame.DataFrame'>\n",
      "RangeIndex: 2889 entries, 0 to 2888\n",
      "Data columns (total 13 columns):\n",
      " #   Column            Non-Null Count  Dtype \n",
      "---  ------            --------------  ----- \n",
      " 0   game_year         2889 non-null   int64 \n",
      " 1   country_name      2889 non-null   object\n",
      " 2   total_medals      2889 non-null   int64 \n",
      " 3   gold_medals       2889 non-null   int64 \n",
      " 4   silver_medals     2889 non-null   int64 \n",
      " 5   bronze_medals     2889 non-null   int64 \n",
      " 6   sports            2889 non-null   int64 \n",
      " 7   epreuves          2889 non-null   int64 \n",
      " 8   game_part         2889 non-null   int64 \n",
      " 9   prec_game_medal   2889 non-null   int64 \n",
      " 10  prec_game_gold    2889 non-null   int64 \n",
      " 11  prec_game_silver  2889 non-null   int64 \n",
      " 12  prec_game_bronze  2889 non-null   int64 \n",
      "dtypes: int64(12), object(1)\n",
      "memory usage: 293.5+ KB\n"
     ]
    }
   ],
   "source": [
    "olympic_data = pd.read_csv('../csv/olympic_data_cleaned.csv')\n",
    "olympic_data.info()"
   ]
  },
  {
   "cell_type": "code",
   "execution_count": 3,
   "id": "1b4efccc",
   "metadata": {
    "ExecuteTime": {
     "end_time": "2024-05-30T07:13:42.422255Z",
     "start_time": "2024-05-30T07:13:42.399300600Z"
    }
   },
   "outputs": [],
   "source": [
    "X = olympic_data.drop(columns=['total_medals'])\n",
    "y = olympic_data['total_medals']"
   ]
  },
  {
   "cell_type": "markdown",
   "id": "b27d761a",
   "metadata": {},
   "source": [
    "# Identifier les colonnes non numériques"
   ]
  },
  {
   "cell_type": "code",
   "execution_count": 4,
   "id": "2b176cd0",
   "metadata": {
    "ExecuteTime": {
     "end_time": "2024-05-30T07:13:42.467332800Z",
     "start_time": "2024-05-30T07:13:42.417007100Z"
    }
   },
   "outputs": [],
   "source": [
    "non_numeric_columns = X.select_dtypes(include=['object']).columns"
   ]
  },
  {
   "cell_type": "markdown",
   "id": "41ead9c2",
   "metadata": {},
   "source": [
    "# Encodage des colonnes non numériques"
   ]
  },
  {
   "cell_type": "code",
   "execution_count": 5,
   "id": "359b356f",
   "metadata": {
    "ExecuteTime": {
     "end_time": "2024-05-30T07:13:42.468335300Z",
     "start_time": "2024-05-30T07:13:42.432774700Z"
    }
   },
   "outputs": [],
   "source": [
    "label_encoders = {}\n",
    "for col in non_numeric_columns:\n",
    "    le = LabelEncoder()\n",
    "    X[col] = le.fit_transform(X[col].astype(str))\n",
    "    label_encoders[col] = le"
   ]
  },
  {
   "cell_type": "markdown",
   "id": "b9ea5092",
   "metadata": {},
   "source": [
    "# Vérifier les valeurs manquantes et les imputer avec la moyenne"
   ]
  },
  {
   "cell_type": "code",
   "execution_count": 6,
   "id": "776626b0",
   "metadata": {
    "ExecuteTime": {
     "end_time": "2024-05-30T07:13:42.469916400Z",
     "start_time": "2024-05-30T07:13:42.445285800Z"
    }
   },
   "outputs": [],
   "source": [
    "imputer = SimpleImputer(strategy='mean')\n",
    "X = pd.DataFrame(imputer.fit_transform(X), columns=X.columns)"
   ]
  },
  {
   "cell_type": "markdown",
   "id": "ef3c44f8",
   "metadata": {},
   "source": [
    "# Séparation des données en ensembles d'entraînement et de test"
   ]
  },
  {
   "cell_type": "code",
   "execution_count": 7,
   "id": "a6cf2b0b",
   "metadata": {
    "ExecuteTime": {
     "end_time": "2024-05-30T07:13:42.512119Z",
     "start_time": "2024-05-30T07:13:42.461315200Z"
    }
   },
   "outputs": [],
   "source": [
    "X_train, X_test, y_train, y_test = train_test_split(X, y, test_size=0.2, random_state=42)"
   ]
  },
  {
   "cell_type": "markdown",
   "id": "4c580b40",
   "metadata": {},
   "source": [
    "# Normalisation des données"
   ]
  },
  {
   "cell_type": "code",
   "execution_count": 8,
   "id": "1af208aa",
   "metadata": {
    "ExecuteTime": {
     "end_time": "2024-05-30T07:13:42.513120800Z",
     "start_time": "2024-05-30T07:13:42.476931300Z"
    }
   },
   "outputs": [],
   "source": [
    "scaler = StandardScaler()\n",
    "X_train = scaler.fit_transform(X_train)\n",
    "X_test = scaler.transform(X_test)"
   ]
  },
  {
   "cell_type": "markdown",
   "id": "80dfe89a",
   "metadata": {},
   "source": [
    "Convertir les données en tenseurs PyTorch après prétraitement"
   ]
  },
  {
   "cell_type": "code",
   "execution_count": 9,
   "id": "adee1333",
   "metadata": {
    "ExecuteTime": {
     "end_time": "2024-05-30T07:13:42.514117Z",
     "start_time": "2024-05-30T07:13:42.493359500Z"
    }
   },
   "outputs": [],
   "source": [
    "X_train_tensor = torch.tensor(X_train, dtype=torch.float32)\n",
    "y_train_tensor = torch.tensor(y_train.values, dtype=torch.float32).view(-1, 1)\n",
    "X_test_tensor = torch.tensor(X_test, dtype=torch.float32)\n",
    "y_test_tensor = torch.tensor(y_test.values, dtype=torch.float32).view(-1, 1)\n",
    "\n",
    "input_dim = X_train.shape[1]"
   ]
  },
  {
   "cell_type": "markdown",
   "id": "5b8389e4",
   "metadata": {},
   "source": [
    "# Définir l'architecture du modèle ANN avec les nouveaux meilleurs hyperparamètres"
   ]
  },
  {
   "cell_type": "code",
   "execution_count": 10,
   "id": "6cc8c1b9",
   "metadata": {
    "ExecuteTime": {
     "end_time": "2024-05-30T07:13:42.560962Z",
     "start_time": "2024-05-30T07:13:42.510877600Z"
    }
   },
   "outputs": [],
   "source": [
    "class SimpleANN(nn.Module):\n",
    "    def __init__(self, input_dim):\n",
    "        super(SimpleANN, self).__init__()\n",
    "        self.fc1 = nn.Linear(input_dim, 128)\n",
    "        self.fc2 = nn.Linear(128, 64)\n",
    "        self.fc3 = nn.Linear(64, 1)  # Output layer for regression\n",
    "\n",
    "    def forward(self, x):\n",
    "        x = torch.relu(self.fc1(x))\n",
    "        x = torch.relu(self.fc2(x))\n",
    "        x = self.fc3(x)\n",
    "        return x"
   ]
  },
  {
   "cell_type": "markdown",
   "id": "2bd88896",
   "metadata": {},
   "source": [
    "Instancier le modèle"
   ]
  },
  {
   "cell_type": "code",
   "execution_count": 11,
   "id": "93bbed18",
   "metadata": {
    "ExecuteTime": {
     "end_time": "2024-05-30T07:13:42.564144400Z",
     "start_time": "2024-05-30T07:13:42.522141Z"
    }
   },
   "outputs": [],
   "source": [
    "model = SimpleANN(input_dim)"
   ]
  },
  {
   "cell_type": "markdown",
   "id": "465d4696",
   "metadata": {},
   "source": [
    "# Définir la fonction de perte et l'optimiseur"
   ]
  },
  {
   "cell_type": "code",
   "execution_count": 12,
   "id": "c3d44c1d",
   "metadata": {
    "ExecuteTime": {
     "end_time": "2024-05-30T07:13:43.694492Z",
     "start_time": "2024-05-30T07:13:42.539178200Z"
    }
   },
   "outputs": [],
   "source": [
    "criterion = nn.MSELoss()\n",
    "optimizer = optim.Adam(model.parameters(), lr=0.01)"
   ]
  },
  {
   "cell_type": "markdown",
   "id": "9b4b198a",
   "metadata": {},
   "source": [
    "Early stopping parameters => arrêter l'entraînement lorsque la performance sur l'ensemble de validation ne s'améliore plus"
   ]
  },
  {
   "cell_type": "code",
   "execution_count": 13,
   "id": "382c5076",
   "metadata": {
    "ExecuteTime": {
     "end_time": "2024-05-30T07:13:43.715537400Z",
     "start_time": "2024-05-30T07:13:43.686976700Z"
    }
   },
   "outputs": [],
   "source": [
    "patience = 10\n",
    "min_delta = 0.001\n",
    "best_loss = np.inf\n",
    "patience_counter = 0"
   ]
  },
  {
   "cell_type": "markdown",
   "id": "e3a8e5ac",
   "metadata": {},
   "source": [
    "# Entrainement du modèle avec early stopping"
   ]
  },
  {
   "cell_type": "code",
   "execution_count": 14,
   "id": "79cadf47",
   "metadata": {
    "ExecuteTime": {
     "end_time": "2024-05-30T07:13:44.596737900Z",
     "start_time": "2024-05-30T07:13:43.707019500Z"
    }
   },
   "outputs": [
    {
     "name": "stdout",
     "output_type": "stream",
     "text": [
      "Epoch [10/200], Train Loss: 78.1580, Val Loss: 53.0425\n",
      "Epoch [20/200], Train Loss: 20.8766, Val Loss: 12.2084\n",
      "Epoch [30/200], Train Loss: 2.2856, Val Loss: 2.9680\n",
      "Epoch [40/200], Train Loss: 3.4635, Val Loss: 2.8826\n",
      "Epoch [50/200], Train Loss: 1.3849, Val Loss: 1.0330\n",
      "Epoch [60/200], Train Loss: 1.0914, Val Loss: 1.1311\n",
      "Epoch [70/200], Train Loss: 0.6910, Val Loss: 0.6190\n",
      "Epoch [80/200], Train Loss: 0.5370, Val Loss: 0.4580\n",
      "Epoch [90/200], Train Loss: 0.3878, Val Loss: 0.3455\n",
      "Epoch [100/200], Train Loss: 0.2780, Val Loss: 0.2625\n",
      "Epoch [110/200], Train Loss: 0.2049, Val Loss: 0.1985\n",
      "Epoch [120/200], Train Loss: 0.1544, Val Loss: 0.1544\n",
      "Epoch [130/200], Train Loss: 0.1186, Val Loss: 0.1210\n",
      "Epoch [140/200], Train Loss: 0.0939, Val Loss: 0.0973\n",
      "Epoch [150/200], Train Loss: 0.0759, Val Loss: 0.0808\n",
      "Epoch [160/200], Train Loss: 0.0635, Val Loss: 0.0700\n",
      "Epoch [170/200], Train Loss: 0.0543, Val Loss: 0.0624\n",
      "Epoch [180/200], Train Loss: 0.0472, Val Loss: 0.0567\n",
      "Epoch [190/200], Train Loss: 0.0415, Val Loss: 0.0517\n",
      "Epoch [200/200], Train Loss: 0.0368, Val Loss: 0.0471\n"
     ]
    }
   ],
   "source": [
    "num_epochs = 200\n",
    "train_losses = []\n",
    "val_losses = []\n",
    "for epoch in range(num_epochs):\n",
    "    model.train()\n",
    "    optimizer.zero_grad()\n",
    "    outputs = model(X_train_tensor)\n",
    "    loss = criterion(outputs, y_train_tensor)\n",
    "    loss.backward()\n",
    "    optimizer.step()\n",
    "    train_losses.append(loss.item())\n",
    "\n",
    "    model.eval()\n",
    "    with torch.no_grad():\n",
    "        val_predictions = model(X_test_tensor)\n",
    "        val_loss = criterion(val_predictions, y_test_tensor)\n",
    "        val_losses.append(val_loss.item())\n",
    "    if (epoch+1) % 10 == 0:\n",
    "        print(f'Epoch [{epoch+1}/{num_epochs}], Train Loss: {loss.item():.4f}, Val Loss: {val_loss.item():.4f}')\n",
    "\n",
    "    # Condition d'arrét\n",
    "    if val_loss < best_loss - min_delta:\n",
    "        best_loss = val_loss\n",
    "        patience_counter = 0\n",
    "    else:\n",
    "        patience_counter += 1\n",
    "\n",
    "    if patience_counter >= patience:\n",
    "        print(\"Early stopping triggered\")\n",
    "        break"
   ]
  },
  {
   "cell_type": "markdown",
   "id": "c472239f",
   "metadata": {},
   "source": [
    "# Visualiser les pertes d'entraînement et de validation au fil des epoch"
   ]
  },
  {
   "cell_type": "code",
   "execution_count": 15,
   "id": "273796b5",
   "metadata": {
    "ExecuteTime": {
     "end_time": "2024-05-30T07:13:44.816245900Z",
     "start_time": "2024-05-30T07:13:44.594737900Z"
    }
   },
   "outputs": [
    {
     "data": {
      "text/plain": "<Figure size 1200x600 with 1 Axes>",
      "image/png": "[encoded data removed]"
     },
     "metadata": {},
     "output_type": "display_data"
    }
   ],
   "source": [
    "plt.figure(figsize=(12, 6))\n",
    "plt.plot(train_losses, label='Train Loss')\n",
    "plt.plot(val_losses, label='Validation Loss')\n",
    "plt.xlabel('Epoch')\n",
    "plt.ylabel('Loss')\n",
    "plt.title('Train and Validation Loss over Epochs')\n",
    "plt.legend()\n",
    "plt.show()"
   ]
  },
  {
   "cell_type": "markdown",
   "id": "e6723f77",
   "metadata": {},
   "source": [
    "# Perte finale sur l'ensemble de validation"
   ]
  },
  {
   "cell_type": "code",
   "execution_count": 16,
   "id": "bed00c96",
   "metadata": {
    "ExecuteTime": {
     "end_time": "2024-05-30T07:13:44.925198900Z",
     "start_time": "2024-05-30T07:13:44.813245400Z"
    }
   },
   "outputs": [
    {
     "name": "stdout",
     "output_type": "stream",
     "text": [
      "Final Validation Loss: 0.0471\n"
     ]
    }
   ],
   "source": [
    "final_val_loss = val_losses[-1]\n",
    "print(f'Final Validation Loss: {final_val_loss:.4f}')"
   ]
  },
  {
   "cell_type": "code",
   "outputs": [
    {
     "name": "stdout",
     "output_type": "stream",
     "text": [
      "Model créé avec sucées\n",
      "Test Loss: 0.0471\n",
      "Mean Absolute Percentage Error: inf%\n"
     ]
    },
    {
     "name": "stderr",
     "output_type": "stream",
     "text": [
      "C:\\Users\\tcaron\\AppData\\Local\\Temp\\ipykernel_46316\\2223404723.py:15: RuntimeWarning: divide by zero encountered in divide\n",
      "  mape = np.mean(np.abs((y_test - test_predictions) / y_test)) * 100\n"
     ]
    }
   ],
   "source": [
    "torch.save(model.state_dict(), '../models/olympic_medals_ann.pth')\n",
    "print('Model créé avec sucées')"
   ],
   "metadata": {
    "collapsed": false,
    "ExecuteTime": {
     "end_time": "2024-05-30T07:14:58.571577100Z",
     "start_time": "2024-05-30T07:14:58.540540200Z"
    }
   },
   "id": "800a4735a018d782",
   "execution_count": 19
  }
 ],
 "metadata": {
  "kernelspec": {
   "display_name": "Python 3 (ipykernel)",
   "language": "python",
   "name": "python3"
  },
  "language_info": {
   "codemirror_mode": {
    "name": "ipython",
    "version": 3
   },
   "file_extension": ".py",
   "mimetype": "text/x-python",
   "name": "python",
   "nbconvert_exporter": "python",
   "pygments_lexer": "ipython3",
   "version": "3.11.9"
  }
 },
 "nbformat": 4,
 "nbformat_minor": 5
}
