{
 "cells": [
  {
   "cell_type": "markdown",
   "source": [
    "# Database connection"
   ],
   "metadata": {
    "collapsed": false
   },
   "id": "7255d957741b541d"
  },
  {
   "cell_type": "code",
   "outputs": [],
   "source": [
    "from sqlalchemy import create_engine\n",
    "import pandas as pd\n",
    "\n",
    "# Replace credentials and database details accordingly\n",
    "DATABASE_TYPE = 'mysql'\n",
    "DBAPI = 'pymysql'\n",
    "HOST = 'mysql-predict-jo2024.alwaysdata.net'\n",
    "USER = '360558_read_only'\n",
    "PASSWORD = 'Readonly12345'\n",
    "DATABASE = 'predict-jo2024_mia7'\n",
    "\n",
    "# Create database URL and engine\n",
    "DATABASE_URL = f\"{DATABASE_TYPE}+{DBAPI}://{USER}:{PASSWORD}@{HOST}/{DATABASE}\"\n",
    "engine = create_engine(DATABASE_URL)"
   ],
   "metadata": {
    "collapsed": true,
    "ExecuteTime": {
     "end_time": "2024-05-27T12:24:37.651498800Z",
     "start_time": "2024-05-27T12:24:37.607400500Z"
    }
   },
   "id": "initial_id",
   "execution_count": 2
  },
  {
   "cell_type": "markdown",
   "source": [
    "# Data viz"
   ],
   "metadata": {
    "collapsed": false
   },
   "id": "dd85a295cb00f8e4"
  },
  {
   "cell_type": "code",
   "outputs": [
    {
     "data": {
      "text/plain": "   Unnamed: 0 discipline_title    event_title     slug_game participant_type  \\\n0           0          Curling  Mixed Doubles  beijing-2022         GameTeam   \n1           1          Curling  Mixed Doubles  beijing-2022         GameTeam   \n2           2          Curling  Mixed Doubles  beijing-2022         GameTeam   \n3           3          Curling  Mixed Doubles  beijing-2022         GameTeam   \n4           4          Curling  Mixed Doubles  beijing-2022         GameTeam   \n\n  medal_type                                           athletes rank_equal  \\\n0       GOLD  [('Stefania CONSTANTINI', 'https://olympics.co...      False   \n1     SILVER  [('Kristin SKASLIEN', 'https://olympics.com/en...      False   \n2     BRONZE  [('Almida DE VAL', 'https://olympics.com/en/at...      False   \n3             [('Jennifer DODDS', 'https://olympics.com/en/a...      False   \n4             [('Rachel HOMAN', 'https://olympics.com/en/ath...      False   \n\n  rank_position   country_name country_code country_3_letter_code athlete_url  \\\n0             1          Italy           IT                   ITA               \n1             2         Norway           NO                   NOR               \n2             3         Sweden           SE                   SWE               \n3             4  Great Britain           GB                   GBR               \n4             5         Canada           CA                   CAN               \n\n  athlete_full_name value_unit value_type  \n0                                          \n1                                          \n2                                          \n3                                          \n4                                          ",
      "text/html": "<div>\n<style scoped>\n    .dataframe tbody tr th:only-of-type {\n        vertical-align: middle;\n    }\n\n    .dataframe tbody tr th {\n        vertical-align: top;\n    }\n\n    .dataframe thead th {\n        text-align: right;\n    }\n</style>\n<table border=\"1\" class=\"dataframe\">\n  <thead>\n    <tr style=\"text-align: right;\">\n      <th></th>\n      <th>Unnamed: 0</th>\n      <th>discipline_title</th>\n      <th>event_title</th>\n      <th>slug_game</th>\n      <th>participant_type</th>\n      <th>medal_type</th>\n      <th>athletes</th>\n      <th>rank_equal</th>\n      <th>rank_position</th>\n      <th>country_name</th>\n      <th>country_code</th>\n      <th>country_3_letter_code</th>\n      <th>athlete_url</th>\n      <th>athlete_full_name</th>\n      <th>value_unit</th>\n      <th>value_type</th>\n    </tr>\n  </thead>\n  <tbody>\n    <tr>\n      <th>0</th>\n      <td>0</td>\n      <td>Curling</td>\n      <td>Mixed Doubles</td>\n      <td>beijing-2022</td>\n      <td>GameTeam</td>\n      <td>GOLD</td>\n      <td>[('Stefania CONSTANTINI', 'https://olympics.co...</td>\n      <td>False</td>\n      <td>1</td>\n      <td>Italy</td>\n      <td>IT</td>\n      <td>ITA</td>\n      <td></td>\n      <td></td>\n      <td></td>\n      <td></td>\n    </tr>\n    <tr>\n      <th>1</th>\n      <td>1</td>\n      <td>Curling</td>\n      <td>Mixed Doubles</td>\n      <td>beijing-2022</td>\n      <td>GameTeam</td>\n      <td>SILVER</td>\n      <td>[('Kristin SKASLIEN', 'https://olympics.com/en...</td>\n      <td>False</td>\n      <td>2</td>\n      <td>Norway</td>\n      <td>NO</td>\n      <td>NOR</td>\n      <td></td>\n      <td></td>\n      <td></td>\n      <td></td>\n    </tr>\n    <tr>\n      <th>2</th>\n      <td>2</td>\n      <td>Curling</td>\n      <td>Mixed Doubles</td>\n      <td>beijing-2022</td>\n      <td>GameTeam</td>\n      <td>BRONZE</td>\n      <td>[('Almida DE VAL', 'https://olympics.com/en/at...</td>\n      <td>False</td>\n      <td>3</td>\n      <td>Sweden</td>\n      <td>SE</td>\n      <td>SWE</td>\n      <td></td>\n      <td></td>\n      <td></td>\n      <td></td>\n    </tr>\n    <tr>\n      <th>3</th>\n      <td>3</td>\n      <td>Curling</td>\n      <td>Mixed Doubles</td>\n      <td>beijing-2022</td>\n      <td>GameTeam</td>\n      <td></td>\n      <td>[('Jennifer DODDS', 'https://olympics.com/en/a...</td>\n      <td>False</td>\n      <td>4</td>\n      <td>Great Britain</td>\n      <td>GB</td>\n      <td>GBR</td>\n      <td></td>\n      <td></td>\n      <td></td>\n      <td></td>\n    </tr>\n    <tr>\n      <th>4</th>\n      <td>4</td>\n      <td>Curling</td>\n      <td>Mixed Doubles</td>\n      <td>beijing-2022</td>\n      <td>GameTeam</td>\n      <td></td>\n      <td>[('Rachel HOMAN', 'https://olympics.com/en/ath...</td>\n      <td>False</td>\n      <td>5</td>\n      <td>Canada</td>\n      <td>CA</td>\n      <td>CAN</td>\n      <td></td>\n      <td></td>\n      <td></td>\n      <td></td>\n    </tr>\n  </tbody>\n</table>\n</div>"
     },
     "execution_count": 8,
     "metadata": {},
     "output_type": "execute_result"
    }
   ],
   "source": [
    "table_names = ['olympic_athletes', 'olympic_hosts', 'olympic_medals', 'olympic_results']\n",
    "\n",
    "# Create a dictionary of dataframes where keys are table names\n",
    "dataframes = {}\n",
    "for table in table_names:\n",
    "    query = f\"SELECT * FROM {table} LIMIT 100\"\n",
    "    dataframes[table] = pd.read_sql(query, con=engine)\n",
    "\n",
    "# Display the data from the first table\n",
    "dataframes['olympic_results'].head()"
   ],
   "metadata": {
    "collapsed": false,
    "ExecuteTime": {
     "end_time": "2024-05-27T12:27:30.489620600Z",
     "start_time": "2024-05-27T12:27:30.380274200Z"
    }
   },
   "id": "b2fbd4e026fae8e5",
   "execution_count": 8
  },
  {
   "cell_type": "markdown",
   "source": [
    "# Ploting viz"
   ],
   "metadata": {
    "collapsed": false
   },
   "id": "239b0df17b2a9500"
  },
  {
   "cell_type": "code",
   "outputs": [
    {
     "data": {
      "text/plain": "<Figure size 640x480 with 1 Axes>",
      "image/png": "[encoded data removed]"
     },
     "metadata": {},
     "output_type": "display_data"
    }
   ],
   "source": [
    "import matplotlib.pyplot as plt\n",
    "import seaborn as sns\n",
    "\n",
    "if 'medal_type' in dataframes['olympic_results'].columns:\n",
    "    sns.histplot(dataframes['olympic_results']['medal_type'])\n",
    "    plt.show()"
   ],
   "metadata": {
    "collapsed": false,
    "ExecuteTime": {
     "end_time": "2024-05-27T12:27:33.082294600Z",
     "start_time": "2024-05-27T12:27:32.963707800Z"
    }
   },
   "id": "628704aacf4710f2",
   "execution_count": 9
  },
  {
   "cell_type": "markdown",
   "source": [
    "# Evènements marquants aux JO"
   ],
   "metadata": {
    "collapsed": false
   },
   "id": "3bf4f9fe91cdca07"
  },
  {
   "cell_type": "code",
   "outputs": [
    {
     "data": {
      "text/plain": "   index         game_slug         game_end_date       game_start_date  \\\n0      0      beijing-2022  2022-02-20T12:00:00Z  2022-02-04T15:00:00Z   \n1      1        tokyo-2020  2021-08-08T14:00:00Z  2021-07-23T11:00:00Z   \n2      2  pyeongchang-2018  2018-02-25T08:00:00Z  2018-02-08T23:00:00Z   \n3      3          rio-2016  2016-08-21T21:00:00Z  2016-08-05T12:00:00Z   \n4      4        sochi-2014  2014-02-23T16:00:00Z  2014-02-07T04:00:00Z   \n\n        game_location         game_name game_season  game_year  \n0               China      Beijing 2022      Winter       2022  \n1               Japan        Tokyo 2020      Summer       2020  \n2   Republic of Korea  PyeongChang 2018      Winter       2018  \n3              Brazil          Rio 2016      Summer       2016  \n4  Russian Federation        Sochi 2014      Winter       2014  ",
      "text/html": "<div>\n<style scoped>\n    .dataframe tbody tr th:only-of-type {\n        vertical-align: middle;\n    }\n\n    .dataframe tbody tr th {\n        vertical-align: top;\n    }\n\n    .dataframe thead th {\n        text-align: right;\n    }\n</style>\n<table border=\"1\" class=\"dataframe\">\n  <thead>\n    <tr style=\"text-align: right;\">\n      <th></th>\n      <th>index</th>\n      <th>game_slug</th>\n      <th>game_end_date</th>\n      <th>game_start_date</th>\n      <th>game_location</th>\n      <th>game_name</th>\n      <th>game_season</th>\n      <th>game_year</th>\n    </tr>\n  </thead>\n  <tbody>\n    <tr>\n      <th>0</th>\n      <td>0</td>\n      <td>beijing-2022</td>\n      <td>2022-02-20T12:00:00Z</td>\n      <td>2022-02-04T15:00:00Z</td>\n      <td>China</td>\n      <td>Beijing 2022</td>\n      <td>Winter</td>\n      <td>2022</td>\n    </tr>\n    <tr>\n      <th>1</th>\n      <td>1</td>\n      <td>tokyo-2020</td>\n      <td>2021-08-08T14:00:00Z</td>\n      <td>2021-07-23T11:00:00Z</td>\n      <td>Japan</td>\n      <td>Tokyo 2020</td>\n      <td>Summer</td>\n      <td>2020</td>\n    </tr>\n    <tr>\n      <th>2</th>\n      <td>2</td>\n      <td>pyeongchang-2018</td>\n      <td>2018-02-25T08:00:00Z</td>\n      <td>2018-02-08T23:00:00Z</td>\n      <td>Republic of Korea</td>\n      <td>PyeongChang 2018</td>\n      <td>Winter</td>\n      <td>2018</td>\n    </tr>\n    <tr>\n      <th>3</th>\n      <td>3</td>\n      <td>rio-2016</td>\n      <td>2016-08-21T21:00:00Z</td>\n      <td>2016-08-05T12:00:00Z</td>\n      <td>Brazil</td>\n      <td>Rio 2016</td>\n      <td>Summer</td>\n      <td>2016</td>\n    </tr>\n    <tr>\n      <th>4</th>\n      <td>4</td>\n      <td>sochi-2014</td>\n      <td>2014-02-23T16:00:00Z</td>\n      <td>2014-02-07T04:00:00Z</td>\n      <td>Russian Federation</td>\n      <td>Sochi 2014</td>\n      <td>Winter</td>\n      <td>2014</td>\n    </tr>\n  </tbody>\n</table>\n</div>"
     },
     "execution_count": 11,
     "metadata": {},
     "output_type": "execute_result"
    }
   ],
   "source": [
    "# Combien de JO a organisé la France ?\n",
    "table = 'olympic_hosts'\n",
    "\n",
    "# Create a dictionary of dataframes where keys are table names\n",
    "dataframes = {}\n",
    "query = f\"SELECT * FROM {table}\"\n",
    "dataframes[table] = pd.read_sql(query, con=engine)\n",
    "\n",
    "# Display the data from the first table\n",
    "dataframes['olympic_hosts'].head()"
   ],
   "metadata": {
    "collapsed": false,
    "ExecuteTime": {
     "end_time": "2024-05-27T13:07:54.428963600Z",
     "start_time": "2024-05-27T13:07:54.360091200Z"
    }
   },
   "id": "9cbff7596f8f72ee",
   "execution_count": 11
  },
  {
   "cell_type": "code",
   "outputs": [
    {
     "name": "stdout",
     "output_type": "stream",
     "text": [
      "La France a hébergé les JO 5 fois. +1, donc 6, avec 2024 qui n'est pas dans le dataset\n"
     ]
    }
   ],
   "source": [
    "# Combien de fois la France a-t-elle hébergé les JO ?\n",
    "france_hosted = dataframes['olympic_hosts'][dataframes['olympic_hosts']['game_location'] == 'France']\n",
    "nb_france_hosted = france_hosted.shape[0]\n",
    "\n",
    "print(f\"La France a hébergé les JO {nb_france_hosted} fois. +1, donc 6, avec 2024 qui n'est pas dans le dataset\")"
   ],
   "metadata": {
    "collapsed": false,
    "ExecuteTime": {
     "end_time": "2024-05-27T13:11:23.081482500Z",
     "start_time": "2024-05-27T13:11:23.059635400Z"
    }
   },
   "id": "b62ba04377b59794",
   "execution_count": 18
  },
  {
   "cell_type": "code",
   "outputs": [
    {
     "name": "stdout",
     "output_type": "stream",
     "text": [
      "game_location\n",
      "United States                  8\n",
      "France                         5\n",
      "Japan                          4\n",
      "Great Britain                  3\n",
      "Canada                         3\n",
      "Italy                          3\n",
      "Norway                         2\n",
      "Germany                        2\n",
      "Switzerland                    2\n",
      "Austria                        2\n",
      "China                          2\n",
      "Greece                         2\n",
      "Republic of Korea              2\n",
      "Australia                      1\n",
      "Spain                          1\n",
      "Yugoslavia                     1\n",
      "USSR                           1\n",
      "Russian Federation             1\n",
      "Federal Republic of Germany    1\n",
      "Mexico                         1\n",
      "Australia, Sweden              1\n",
      "Finland                        1\n",
      "Brazil                         1\n",
      "Netherlands                    1\n",
      "Belgium                        1\n",
      "Sweden                         1\n",
      "Name: count, dtype: int64\n",
      "La France est le 2e pays qui a le plus souvent hébergé les JO, juste apres les USA\n"
     ]
    }
   ],
   "source": [
    "# Quels sont les pays qui ont le plus souvent hébergé les JO ?\n",
    "hosted = dataframes['olympic_hosts']['game_location'].value_counts()\n",
    "print(hosted)\n",
    "print(f\"La France est le 2e pays qui a le plus souvent hébergé les JO, juste apres les USA\")"
   ],
   "metadata": {
    "collapsed": false,
    "ExecuteTime": {
     "end_time": "2024-05-27T13:12:42.515717100Z",
     "start_time": "2024-05-27T13:12:42.494640900Z"
    }
   },
   "id": "38435ef12ef0c4a1",
   "execution_count": 20
  },
  {
   "cell_type": "code",
   "outputs": [
    {
     "name": "stdout",
     "output_type": "stream",
     "text": [
      "Le premier jeu d'hiver a eu lieu en 1924 à Chamonix 1924\n"
     ]
    }
   ],
   "source": [
    "# Où a eu lieu le premier jeu d'hiver ?\n",
    "winter_games = dataframes['olympic_hosts'][dataframes['olympic_hosts']['game_season'] == 'Winter']\n",
    "first_winter_game = winter_games['game_year'].min()\n",
    "first_winter_game_location = winter_games[winter_games['game_year'] == first_winter_game]['game_name'].values[0]\n",
    "\n",
    "print(f\"Le premier jeu d'hiver a eu lieu en {first_winter_game} à {first_winter_game_location}\")"
   ],
   "metadata": {
    "collapsed": false,
    "ExecuteTime": {
     "end_time": "2024-05-27T13:14:25.666197900Z",
     "start_time": "2024-05-27T13:14:25.645424900Z"
    }
   },
   "id": "321c481a4493942f",
   "execution_count": 23
  },
  {
   "cell_type": "code",
   "outputs": [
    {
     "data": {
      "text/plain": "   Unnamed: 0 discipline_title       event_title   slug_game participant_type  \\\n0      160618          Fencing  foil masters men  paris-1900          Athlete   \n1      160619          Fencing  foil masters men  paris-1900          Athlete   \n2      160620          Fencing  foil masters men  paris-1900          Athlete   \n3      160621          Fencing  foil masters men  paris-1900          Athlete   \n4      160622          Fencing  foil masters men  paris-1900          Athlete   \n\n  medal_type athletes rank_equal rank_position country_name country_code  \\\n0       GOLD                                 1       France           FR   \n1     SILVER                                 2       France           FR   \n2     BRONZE                                 3       France           FR   \n3                                            4        Italy           IT   \n4                                            5       France           FR   \n\n  country_3_letter_code                                        athlete_url  \\\n0                   FRA   https://olympics.com/en/athletes/lucien-merignac   \n1                   FRA  https://olympics.com/en/athletes/alphonse-kirc...   \n2                   FRA  https://olympics.com/en/athletes/jean-baptiste...   \n3                   ITA     https://olympics.com/en/athletes/antonio-conte   \n4                   FRA   https://olympics.com/en/athletes/jules-rossignol   \n\n        athlete_full_name value_unit value_type  \n0         Lucien MERIGNAC                        \n1    Alphonse KIRCHHOFFER                        \n2  Jean-Baptiste MIMIAGUE                        \n3           Antonio CONTE                        \n4         Jules ROSSIGNOL                        ",
      "text/html": "<div>\n<style scoped>\n    .dataframe tbody tr th:only-of-type {\n        vertical-align: middle;\n    }\n\n    .dataframe tbody tr th {\n        vertical-align: top;\n    }\n\n    .dataframe thead th {\n        text-align: right;\n    }\n</style>\n<table border=\"1\" class=\"dataframe\">\n  <thead>\n    <tr style=\"text-align: right;\">\n      <th></th>\n      <th>Unnamed: 0</th>\n      <th>discipline_title</th>\n      <th>event_title</th>\n      <th>slug_game</th>\n      <th>participant_type</th>\n      <th>medal_type</th>\n      <th>athletes</th>\n      <th>rank_equal</th>\n      <th>rank_position</th>\n      <th>country_name</th>\n      <th>country_code</th>\n      <th>country_3_letter_code</th>\n      <th>athlete_url</th>\n      <th>athlete_full_name</th>\n      <th>value_unit</th>\n      <th>value_type</th>\n    </tr>\n  </thead>\n  <tbody>\n    <tr>\n      <th>0</th>\n      <td>160618</td>\n      <td>Fencing</td>\n      <td>foil masters men</td>\n      <td>paris-1900</td>\n      <td>Athlete</td>\n      <td>GOLD</td>\n      <td></td>\n      <td></td>\n      <td>1</td>\n      <td>France</td>\n      <td>FR</td>\n      <td>FRA</td>\n      <td>https://olympics.com/en/athletes/lucien-merignac</td>\n      <td>Lucien MERIGNAC</td>\n      <td></td>\n      <td></td>\n    </tr>\n    <tr>\n      <th>1</th>\n      <td>160619</td>\n      <td>Fencing</td>\n      <td>foil masters men</td>\n      <td>paris-1900</td>\n      <td>Athlete</td>\n      <td>SILVER</td>\n      <td></td>\n      <td></td>\n      <td>2</td>\n      <td>France</td>\n      <td>FR</td>\n      <td>FRA</td>\n      <td>https://olympics.com/en/athletes/alphonse-kirc...</td>\n      <td>Alphonse KIRCHHOFFER</td>\n      <td></td>\n      <td></td>\n    </tr>\n    <tr>\n      <th>2</th>\n      <td>160620</td>\n      <td>Fencing</td>\n      <td>foil masters men</td>\n      <td>paris-1900</td>\n      <td>Athlete</td>\n      <td>BRONZE</td>\n      <td></td>\n      <td></td>\n      <td>3</td>\n      <td>France</td>\n      <td>FR</td>\n      <td>FRA</td>\n      <td>https://olympics.com/en/athletes/jean-baptiste...</td>\n      <td>Jean-Baptiste MIMIAGUE</td>\n      <td></td>\n      <td></td>\n    </tr>\n    <tr>\n      <th>3</th>\n      <td>160621</td>\n      <td>Fencing</td>\n      <td>foil masters men</td>\n      <td>paris-1900</td>\n      <td>Athlete</td>\n      <td></td>\n      <td></td>\n      <td></td>\n      <td>4</td>\n      <td>Italy</td>\n      <td>IT</td>\n      <td>ITA</td>\n      <td>https://olympics.com/en/athletes/antonio-conte</td>\n      <td>Antonio CONTE</td>\n      <td></td>\n      <td></td>\n    </tr>\n    <tr>\n      <th>4</th>\n      <td>160622</td>\n      <td>Fencing</td>\n      <td>foil masters men</td>\n      <td>paris-1900</td>\n      <td>Athlete</td>\n      <td></td>\n      <td></td>\n      <td></td>\n      <td>5</td>\n      <td>France</td>\n      <td>FR</td>\n      <td>FRA</td>\n      <td>https://olympics.com/en/athletes/jules-rossignol</td>\n      <td>Jules ROSSIGNOL</td>\n      <td></td>\n      <td></td>\n    </tr>\n  </tbody>\n</table>\n</div>"
     },
     "execution_count": 33,
     "metadata": {},
     "output_type": "execute_result"
    }
   ],
   "source": [
    "# Il y avait-il des JO pour femmes en 1900 ?\n",
    "table = 'olympic_results'\n",
    "\n",
    "# On filtre sur les JO de 1900 car le CSV est trop gros\n",
    "dataframe = {}\n",
    "query = \"\"\"\n",
    "SELECT *\n",
    "FROM {0}\n",
    "WHERE slug_game LIKE '%%1900%%'\n",
    "\"\"\".format(table)\n",
    "dataframe[table] = pd.read_sql(query, con=engine)\n",
    "\n",
    "dataframe['olympic_results'].head()"
   ],
   "metadata": {
    "collapsed": false,
    "ExecuteTime": {
     "end_time": "2024-05-27T13:25:35.674335400Z",
     "start_time": "2024-05-27T13:25:35.454823800Z"
    }
   },
   "id": "a004d258846906c6",
   "execution_count": 33
  },
  {
   "cell_type": "code",
   "outputs": [
    {
     "name": "stdout",
     "output_type": "stream",
     "text": [
      "      Unnamed: 0 discipline_title       event_title   slug_game  \\\n",
      "412       161030             Golf  Individual women  paris-1900   \n",
      "413       161031             Golf  Individual women  paris-1900   \n",
      "414       161032             Golf  Individual women  paris-1900   \n",
      "415       161033             Golf  Individual women  paris-1900   \n",
      "416       161034             Golf  Individual women  paris-1900   \n",
      "417       161035             Golf  Individual women  paris-1900   \n",
      "418       161036             Golf  Individual women  paris-1900   \n",
      "419       161037             Golf  Individual women  paris-1900   \n",
      "420       161038             Golf  Individual women  paris-1900   \n",
      "421       161039             Golf  Individual women  paris-1900   \n",
      "1272      161890           Tennis     Singles women  paris-1900   \n",
      "1273      161891           Tennis     Singles women  paris-1900   \n",
      "1274      161892           Tennis     Singles women  paris-1900   \n",
      "1275      161893           Tennis     Singles women  paris-1900   \n",
      "1276      161894           Tennis     Singles women  paris-1900   \n",
      "1277      161895           Tennis     Singles women  paris-1900   \n",
      "\n",
      "     participant_type medal_type athletes rank_equal rank_position  \\\n",
      "412           Athlete       GOLD                                 1   \n",
      "413           Athlete     SILVER                                 2   \n",
      "414           Athlete     BRONZE                                 3   \n",
      "415           Athlete                                            4   \n",
      "416           Athlete                                            5   \n",
      "417           Athlete                                            6   \n",
      "418           Athlete                           True             7   \n",
      "419           Athlete                           True             7   \n",
      "420           Athlete                                            9   \n",
      "421           Athlete                                           10   \n",
      "1272          Athlete       GOLD                                 1   \n",
      "1273          Athlete     SILVER                                 2   \n",
      "1274          Athlete     BRONZE                True             3   \n",
      "1275          Athlete     BRONZE                True             3   \n",
      "1276          Athlete                           True             5   \n",
      "1277          Athlete                           True             5   \n",
      "\n",
      "                  country_name country_code country_3_letter_code  \\\n",
      "412   United States of America           US                   USA   \n",
      "413   United States of America           US                   USA   \n",
      "414   United States of America           US                   USA   \n",
      "415                     France           FR                   FRA   \n",
      "416   United States of America           US                   USA   \n",
      "417                     France           FR                   FRA   \n",
      "418   United States of America           US                   USA   \n",
      "419                     France           FR                   FRA   \n",
      "420                     France           FR                   FRA   \n",
      "421                     France           FR                   FRA   \n",
      "1272             Great Britain           GB                   GBR   \n",
      "1273                    France           FR                   FRA   \n",
      "1274  United States of America           US                   USA   \n",
      "1275                   Bohemia                                BOH   \n",
      "1276                    France           FR                   FRA   \n",
      "1277  United States of America           US                   USA   \n",
      "\n",
      "                                            athlete_url  \\\n",
      "412   https://olympics.com/en/athletes/margaret-ives...   \n",
      "413                                                       \n",
      "414                                                       \n",
      "415                                                       \n",
      "416                                                       \n",
      "417                                                       \n",
      "418        https://olympics.com/en/athletes/mary-abbott   \n",
      "419                                                       \n",
      "420                                                       \n",
      "421         https://olympics.com/en/athletes/mme-a-brun   \n",
      "1272  https://olympics.com/en/athletes/charlotte-cooper   \n",
      "1273                                                      \n",
      "1274    https://olympics.com/en/athletes/marion-jones-1   \n",
      "1275                                                      \n",
      "1276  https://olympics.com/en/athletes/marguerite-fo...   \n",
      "1277  https://olympics.com/en/athletes/georgina-jones-1   \n",
      "\n",
      "                  athlete_full_name value_unit value_type  \n",
      "412            Margaret Ives ABBOTT         47      SCORE  \n",
      "413                  Polly Whittier         49      SCORE  \n",
      "414                     Abbie Pratt         53      SCORE  \n",
      "415            Mme. Froment-Meurice         56      SCORE  \n",
      "416                   Ellen Ridgway         57      SCORE  \n",
      "417   Madeleine Fournier-SarlovÃ¨ze         58      SCORE  \n",
      "418                     Mary ABBOTT         65      SCORE  \n",
      "419           Lucile, Baroness Fain         65      SCORE  \n",
      "420                    Rose Gelbert         76      SCORE  \n",
      "421                    Mme. A. BRUN         80      SCORE  \n",
      "1272               Charlotte COOPER                        \n",
      "1273                Yvonne PrÃ©vost                        \n",
      "1274                   Marion JONES                        \n",
      "1275               Hedwig Rosenbaum                        \n",
      "1276            Marguerite FOURRIER                        \n",
      "1277                 Georgina JONES                        \n"
     ]
    }
   ],
   "source": [
    "# Il y avait-il des JO pour femmes en 1900 ?\n",
    "# Il faut que event_title contienne women\n",
    "filtered_df = dataframe['olympic_results'][dataframe['olympic_results']['event_title'].str.contains('women')]\n",
    "print(filtered_df)\n",
    "print(f\"Il y avait des JO pour femmes en 1900\")"
   ],
   "metadata": {
    "collapsed": false,
    "ExecuteTime": {
     "end_time": "2024-05-27T13:26:33.546347800Z",
     "start_time": "2024-05-27T13:26:33.520222300Z"
    }
   },
   "id": "5b2ed75128c6a66e",
   "execution_count": 35
  },
  {
   "cell_type": "code",
   "outputs": [],
   "source": [
    "# Load 'olympic_medals' table\n",
    "query_results = \"SELECT * FROM olympic_medals\"\n",
    "results_df = pd.read_sql(query_results, con=engine)\n",
    "\n",
    "# Load 'olympic_hosts' table\n",
    "query_hosts = \"SELECT * FROM olympic_hosts\"\n",
    "hosts_df = pd.read_sql(query_hosts, con=engine)"
   ],
   "metadata": {
    "collapsed": false,
    "ExecuteTime": {
     "end_time": "2024-05-27T13:38:34.936214200Z",
     "start_time": "2024-05-27T13:38:34.480428Z"
    }
   },
   "id": "13dbd4c576ab3f3e",
   "execution_count": 38
  },
  {
   "cell_type": "code",
   "outputs": [
    {
     "name": "stdout",
     "output_type": "stream",
     "text": [
      "       Unnamed: 0 discipline_title     slug_game  \\\n",
      "0               0          Curling  beijing-2022   \n",
      "1               1          Curling  beijing-2022   \n",
      "2               2          Curling  beijing-2022   \n",
      "3               3          Curling  beijing-2022   \n",
      "4               4          Curling  beijing-2022   \n",
      "...           ...              ...           ...   \n",
      "21692       21692    Weightlifting   athens-1896   \n",
      "21693       21693    Weightlifting   athens-1896   \n",
      "21694       21694    Weightlifting   athens-1896   \n",
      "21695       21695    Weightlifting   athens-1896   \n",
      "21696       21696    Weightlifting   athens-1896   \n",
      "\n",
      "                           event_title event_gender medal_type  \\\n",
      "0                        Mixed Doubles        Mixed       GOLD   \n",
      "1                        Mixed Doubles        Mixed       GOLD   \n",
      "2                        Mixed Doubles        Mixed     SILVER   \n",
      "3                        Mixed Doubles        Mixed     SILVER   \n",
      "4                        Mixed Doubles        Mixed     BRONZE   \n",
      "...                                ...          ...        ...   \n",
      "21692  heavyweight - one hand lift men          Men     SILVER   \n",
      "21693  heavyweight - one hand lift men          Men     BRONZE   \n",
      "21694  heavyweight - two hand lift men          Men       GOLD   \n",
      "21695  heavyweight - two hand lift men          Men     SILVER   \n",
      "21696  heavyweight - two hand lift men          Men     BRONZE   \n",
      "\n",
      "      participant_type participant_title  \\\n",
      "0             GameTeam             Italy   \n",
      "1             GameTeam             Italy   \n",
      "2             GameTeam            Norway   \n",
      "3             GameTeam            Norway   \n",
      "4             GameTeam            Sweden   \n",
      "...                ...               ...   \n",
      "21692          Athlete                     \n",
      "21693          Athlete                     \n",
      "21694          Athlete                     \n",
      "21695          Athlete                     \n",
      "21696          Athlete                     \n",
      "\n",
      "                                             athlete_url  \\\n",
      "0      https://olympics.com/en/athletes/stefania-cons...   \n",
      "1          https://olympics.com/en/athletes/amos-mosaner   \n",
      "2      https://olympics.com/en/athletes/kristin-skaslien   \n",
      "3      https://olympics.com/en/athletes/magnus-nedreg...   \n",
      "4         https://olympics.com/en/athletes/almida-de-val   \n",
      "...                                                  ...   \n",
      "21692      https://olympics.com/en/athletes/viggo-jensen   \n",
      "21693                                                      \n",
      "21694      https://olympics.com/en/athletes/viggo-jensen   \n",
      "21695  https://olympics.com/en/athletes/launceston-el...   \n",
      "21696   https://olympics.com/en/athletes/sotirios-versis   \n",
      "\n",
      "             athlete_full_name  ... country_code country_3_letter_code index  \\\n",
      "0         Stefania CONSTANTINI  ...           IT                   ITA     0   \n",
      "1                 Amos MOSANER  ...           IT                   ITA     0   \n",
      "2             Kristin SKASLIEN  ...           NO                   NOR     0   \n",
      "3           Magnus NEDREGOTTEN  ...           NO                   NOR     0   \n",
      "4                Almida DE VAL  ...           SE                   SWE     0   \n",
      "...                        ...  ...          ...                   ...   ...   \n",
      "21692             Viggo JENSEN  ...           DK                   DEN    52   \n",
      "21693  Alexandros Nikolopoulos  ...           GR                   GRE    52   \n",
      "21694             Viggo JENSEN  ...           DK                   DEN    52   \n",
      "21695        Launceston ELLIOT  ...           GB                   GBR    52   \n",
      "21696          Sotirios VERSIS  ...           GR                   GRE    52   \n",
      "\n",
      "          game_slug         game_end_date       game_start_date game_location  \\\n",
      "0      beijing-2022  2022-02-20T12:00:00Z  2022-02-04T15:00:00Z         China   \n",
      "1      beijing-2022  2022-02-20T12:00:00Z  2022-02-04T15:00:00Z         China   \n",
      "2      beijing-2022  2022-02-20T12:00:00Z  2022-02-04T15:00:00Z         China   \n",
      "3      beijing-2022  2022-02-20T12:00:00Z  2022-02-04T15:00:00Z         China   \n",
      "4      beijing-2022  2022-02-20T12:00:00Z  2022-02-04T15:00:00Z         China   \n",
      "...             ...                   ...                   ...           ...   \n",
      "21692   athens-1896  1896-04-15T11:39:39Z  1896-04-06T11:38:39Z        Greece   \n",
      "21693   athens-1896  1896-04-15T11:39:39Z  1896-04-06T11:38:39Z        Greece   \n",
      "21694   athens-1896  1896-04-15T11:39:39Z  1896-04-06T11:38:39Z        Greece   \n",
      "21695   athens-1896  1896-04-15T11:39:39Z  1896-04-06T11:38:39Z        Greece   \n",
      "21696   athens-1896  1896-04-15T11:39:39Z  1896-04-06T11:38:39Z        Greece   \n",
      "\n",
      "          game_name game_season game_year  \n",
      "0      Beijing 2022      Winter      2022  \n",
      "1      Beijing 2022      Winter      2022  \n",
      "2      Beijing 2022      Winter      2022  \n",
      "3      Beijing 2022      Winter      2022  \n",
      "4      Beijing 2022      Winter      2022  \n",
      "...             ...         ...       ...  \n",
      "21692   Athens 1896      Summer      1896  \n",
      "21693   Athens 1896      Summer      1896  \n",
      "21694   Athens 1896      Summer      1896  \n",
      "21695   Athens 1896      Summer      1896  \n",
      "21696   Athens 1896      Summer      1896  \n",
      "\n",
      "[21697 rows x 21 columns]\n"
     ]
    }
   ],
   "source": [
    "merged_df = pd.merge(results_df, hosts_df, left_on='slug_game', right_on='game_slug', how='left')\n",
    "print(merged_df)"
   ],
   "metadata": {
    "collapsed": false,
    "ExecuteTime": {
     "end_time": "2024-05-27T13:38:57.154827600Z",
     "start_time": "2024-05-27T13:38:57.112739100Z"
    }
   },
   "id": "f92c1c9c6986da37",
   "execution_count": 40
  },
  {
   "cell_type": "code",
   "outputs": [
    {
     "name": "stdout",
     "output_type": "stream",
     "text": [
      "Athletes qui ont eu au moins une médaille aux JO d'été et d'hiver:\n",
      "Athletes qui ont gagné une médaille ou plus dans les JO d'été et d'hiver la même année:\n",
      "athlete_full_name            game_year\n",
      "                             1924         {Summer, Winter}\n",
      "                             1928         {Summer, Winter}\n",
      "                             1932         {Summer, Winter}\n",
      "                             1936         {Summer, Winter}\n",
      "                             1948         {Summer, Winter}\n",
      "                             1952         {Summer, Winter}\n",
      "                             1956         {Summer, Winter}\n",
      "                             1960         {Summer, Winter}\n",
      "                             1964         {Summer, Winter}\n",
      "                             1968         {Summer, Winter}\n",
      "                             1972         {Summer, Winter}\n",
      "                             1976         {Summer, Winter}\n",
      "                             1980         {Summer, Winter}\n",
      "                             1984         {Summer, Winter}\n",
      "                             1988         {Summer, Winter}\n",
      "                             1992         {Summer, Winter}\n",
      "Christa LUDING-ROTHENBURGER  1988         {Summer, Winter}\n",
      "Name: game_season, dtype: object\n"
     ]
    }
   ],
   "source": [
    "# Filter to get only medalists\n",
    "medalists_df = merged_df[merged_df['medal_type'].notnull()]\n",
    "\n",
    "# Split into summer and winter medalists\n",
    "summer_medalists = set(medalists_df[medalists_df['game_season'] == 'Summer']['athlete_full_name'])\n",
    "winter_medalists = set(medalists_df[medalists_df['game_season'] == 'Winter']['athlete_full_name'])\n",
    "\n",
    "# Find the intersection of both sets to get athletes who have medals in both types of games\n",
    "dual_medalists = summer_medalists.intersection(winter_medalists)\n",
    "\n",
    "# Display results\n",
    "print(\"Athletes qui ont eu au moins une médaille aux JO d'été et d'hiver:\")\n",
    "\n",
    "# Trouver l'athlète qui a gagné une medaille ou plus dans les JO d'été ET d'hiver\n",
    "medal_seasons = medalists_df.groupby(['athlete_full_name', 'game_year'])['game_season'].agg(set)\n",
    "\n",
    "# Identify athletes who competed in both seasons within the same year\n",
    "dual_medalists_same_year = medal_seasons[medal_seasons.apply(lambda x: 'Summer' in x and 'Winter' in x)]\n",
    "\n",
    "# Print results\n",
    "print(\"Athletes qui ont gagné une médaille ou plus dans les JO d'été et d'hiver la même année:\")\n",
    "print(dual_medalists_same_year)"
   ],
   "metadata": {
    "collapsed": false,
    "ExecuteTime": {
     "end_time": "2024-05-27T13:45:39.826937900Z",
     "start_time": "2024-05-27T13:45:39.559336400Z"
    }
   },
   "id": "74b5fe8a495410c3",
   "execution_count": 47
  },
  {
   "cell_type": "code",
   "outputs": [
    {
     "name": "stdout",
     "output_type": "stream",
     "text": [
      "Les années où les JO d'hiver et d'été ont eu lieu la même année avant d'etre separee tous les 2 ans:\n",
      "[1924, 1928, 1932, 1936, 1948, 1952, 1956, 1960, 1964, 1968, 1972, 1976, 1980, 1984, 1988, 1992]\n"
     ]
    }
   ],
   "source": [
    "# In olympic_hosts : \n",
    "# index,game_slug,game_end_date,game_start_date,game_location,game_name,game_season,game_year\n",
    "\n",
    "# Check if winter and summer games are in the same year or not\n",
    "winter_games = hosts_df[hosts_df['game_season'] == 'Winter']\n",
    "summer_games = hosts_df[hosts_df['game_season'] == 'Summer']\n",
    "\n",
    "# Check if there are any years where both winter and summer games were held\n",
    "common_years = set(winter_games['game_year']).intersection(set(summer_games['game_year']))\n",
    "\n",
    "# Display results, sorted in ascending order\n",
    "print(\"Les années où les JO d'hiver et d'été ont eu lieu la même année avant d'etre separee tous les 2 ans:\")\n",
    "print(sorted(common_years))\n"
   ],
   "metadata": {
    "collapsed": false,
    "ExecuteTime": {
     "end_time": "2024-05-27T13:51:01.540326600Z",
     "start_time": "2024-05-27T13:51:01.511259600Z"
    }
   },
   "id": "e7857dea839d943c",
   "execution_count": 50
  },
  {
   "cell_type": "code",
   "outputs": [
    {
     "name": "stdout",
     "output_type": "stream",
     "text": [
      "Johnny WEISSMULLER total number of medals:\n",
      "Johnny a gagne  3  medailles\n"
     ]
    }
   ],
   "source": [
    "# In olympic_medals, check if Johnny WEISSMULLER won medals\n",
    "weissmuller_medals = results_df[results_df['athlete_full_name'] == 'Johnny WEISSMULLER']\n",
    "\n",
    "# Get the total number of medals won by Johnny WEISSMULLER\n",
    "print('Johnny a gagne ',weissmuller_medals.shape[0],' medailles')"
   ],
   "metadata": {
    "collapsed": false,
    "ExecuteTime": {
     "end_time": "2024-05-27T13:52:58.900219300Z",
     "start_time": "2024-05-27T13:52:58.816649400Z"
    }
   },
   "id": "436f0837be43cf21",
   "execution_count": 55
  },
  {
   "cell_type": "code",
   "outputs": [
    {
     "name": "stdout",
     "output_type": "stream",
     "text": [
      "Pays sans femmes aux JO de Londres 2012:\n",
      "{'Bahamas', 'South Africa', 'Switzerland', 'Islamic Republic of Iran', 'Japan', 'Colombia', 'Australia', 'Dominican Republic', 'Latvia', 'Cyprus', 'Tajikistan', 'Botswana', 'Egypt', 'Georgia', 'Belarus', 'Greece', 'Slovenia', 'Jamaica', 'Germany', 'Turkey', 'Serbia', 'Slovakia', 'Argentina', 'Bahrain', 'Algeria', 'Indonesia', \"People's Republic of China\", 'Kazakhstan', 'Kuwait', 'Morocco', 'Bulgaria', 'Cuba', 'Lithuania', 'Russian Federation', 'Netherlands', 'Uzbekistan', 'Armenia', 'Cameroon', 'France', 'Venezuela', 'New Zealand', 'United States of America', 'Trinidad and Tobago', 'Hungary', 'Hong Kong, China', 'Norway', 'India', 'Canada', 'Poland', 'Thailand', 'Ethiopia', 'Puerto Rico', 'Mexico', 'Gabon', 'Ireland', 'Sweden', 'Ukraine', 'Singapore', 'Kenya', 'Republic of Korea', 'Mongolia', 'Estonia', 'Brazil', 'Montenegro', 'Czech Republic', 'Grenada', 'Italy', 'Denmark', 'Belgium', 'Chinese Taipei', 'Croatia', \"Democratic People's Republic of Korea\", 'Portugal', 'Great Britain', 'Finland', 'Azerbaijan', 'Saudi Arabia', 'Uganda', 'Tunisia', 'Spain', 'Romania', 'Afghanistan', 'Guatemala', 'Malaysia', 'Qatar'}\n"
     ]
    }
   ],
   "source": [
    "# Athletes\n",
    "# athlete_url,athlete_full_name,games_participations,first_game,athlete_year_birth,athlete_medals,bio\n",
    "table = 'olympic_athletes'\n",
    "athletes = {}\n",
    "query = f\"SELECT * FROM {table}\"\n",
    "athletes[table] = pd.read_sql(query, con=engine)\n",
    "\n",
    "# Medals\n",
    "# Unnamed: 0,discipline_title,slug_game,event_title,event_gender,medal_type,participant_type,participant_title,athlete_url,athlete_full_name,country_name,country_code,country_3_letter_code\n",
    "table = 'olympic_medals'\n",
    "medals = {}\n",
    "query = f\"SELECT * FROM {table}\"\n",
    "medals[table] = pd.read_sql(query, con=engine)\n",
    "\n",
    "# convert to df\n",
    "athletes_df = pd.DataFrame(athletes['olympic_athletes'])\n",
    "medals_df = pd.DataFrame(medals['olympic_medals'])\n",
    "\n",
    "# Filter to 2012\n",
    "medals_2012 = medals_df[medals_df['slug_game'].str.contains('london-2012')]\n",
    "\n",
    "# Filter for female participants (assuming 'Women' in event_title indicates female events)\n",
    "female_medals_2012 = medals_2012[medals_2012['event_title'].str.contains('women')]\n",
    "\n",
    "# Group by country and count the number of medals\n",
    "countries_with_females = female_medals_2012.groupby('country_name').size()\n",
    "\n",
    "# Check if every country has at least sent one woman\n",
    "all_countries_2012 = medals_2012['country_name'].unique()\n",
    "countries_without_females = set(all_countries_2012) - set(countries_with_females)\n",
    "\n",
    "# Display results\n",
    "print(\"Pays sans femmes aux JO de Londres 2012:\")\n",
    "print(countries_without_females)"
   ],
   "metadata": {
    "collapsed": false,
    "ExecuteTime": {
     "end_time": "2024-05-27T14:12:45.853835900Z",
     "start_time": "2024-05-27T14:12:43.136923300Z"
    }
   },
   "id": "380174bc07346e32",
   "execution_count": 70
  },
  {
   "cell_type": "code",
   "outputs": [
    {
     "name": "stdout",
     "output_type": "stream",
     "text": [
      "Clay pigeon events après les JO de 1900:\n",
      "       Unnamed: 0 discipline_title     slug_game  \\\n",
      "19440       19440         Shooting    paris-1924   \n",
      "19441       19441         Shooting    paris-1924   \n",
      "19442       19442         Shooting    paris-1924   \n",
      "20148       20148         Shooting  antwerp-1920   \n",
      "20149       20149         Shooting  antwerp-1920   \n",
      "20150       20150         Shooting  antwerp-1920   \n",
      "20172       20172         Shooting  antwerp-1920   \n",
      "20173       20173         Shooting  antwerp-1920   \n",
      "20174       20174         Shooting  antwerp-1920   \n",
      "\n",
      "                        event_title event_gender medal_type participant_type  \\\n",
      "19440         clay pigeons team men          Men       GOLD         GameTeam   \n",
      "19441         clay pigeons team men          Men     SILVER         GameTeam   \n",
      "19442         clay pigeons team men          Men     BRONZE         GameTeam   \n",
      "20148  clay pigeons, individual men          Men       GOLD          Athlete   \n",
      "20149  clay pigeons, individual men          Men     SILVER          Athlete   \n",
      "20150  clay pigeons, individual men          Men     BRONZE          Athlete   \n",
      "20172         clay pigeons team men          Men       GOLD         GameTeam   \n",
      "20173         clay pigeons team men          Men     SILVER         GameTeam   \n",
      "20174         clay pigeons team men          Men     BRONZE         GameTeam   \n",
      "\n",
      "        participant_title                                    athlete_url  \\\n",
      "19440  United States team                                                  \n",
      "19441         Canada team                                                  \n",
      "19442        Finland team                                                  \n",
      "20148                         https://olympics.com/en/athletes/mark-arie   \n",
      "20149                       https://olympics.com/en/athletes/frank-troeh   \n",
      "20150                      https://olympics.com/en/athletes/frank-wright   \n",
      "20172  United States team                                                  \n",
      "20173        Belgium team                                                  \n",
      "20174         Sweden team                                                  \n",
      "\n",
      "      athlete_full_name              country_name country_code  \\\n",
      "19440                    United States of America           US   \n",
      "19441                                      Canada           CA   \n",
      "19442                                     Finland           FI   \n",
      "20148         Mark ARIE  United States of America           US   \n",
      "20149       Frank TROEH  United States of America           US   \n",
      "20150      Frank WRIGHT  United States of America           US   \n",
      "20172                    United States of America           US   \n",
      "20173                                     Belgium           BE   \n",
      "20174                                      Sweden           SE   \n",
      "\n",
      "      country_3_letter_code  \n",
      "19440                   USA  \n",
      "19441                   CAN  \n",
      "19442                   FIN  \n",
      "20148                   USA  \n",
      "20149                   USA  \n",
      "20150                   USA  \n",
      "20172                   USA  \n",
      "20173                   BEL  \n",
      "20174                   SWE  \n"
     ]
    }
   ],
   "source": [
    "# Verifier si clay pigeon a eu lieu apres les JO de 1900, contenu dans olympic_medals sous event_title\n",
    "# Filter to get only clay pigeon events\n",
    "clay_pigeon_events = medals_df[medals_df['event_title'].str.contains('clay pigeon')]\n",
    "\n",
    "# Check if there are any clay pigeon events after 1900\n",
    "clay_pigeon_after_1900 = clay_pigeon_events[clay_pigeon_events['slug_game'].str.contains('1900') == False]\n",
    "\n",
    "# Display results\n",
    "print(\"Clay pigeon events après les JO de 1900:\")\n",
    "print(clay_pigeon_after_1900)\n",
    "print('Le sport de tir au pigeon d\\'argile a eu lieu après les JO de 1900')"
   ],
   "metadata": {
    "collapsed": false,
    "ExecuteTime": {
     "end_time": "2024-05-27T14:17:05.199185Z",
     "start_time": "2024-05-27T14:17:05.141243300Z"
    }
   },
   "id": "dceff412d377098f",
   "execution_count": 71
  },
  {
   "cell_type": "markdown",
   "source": [
    "# Questions ouvertes"
   ],
   "metadata": {
    "collapsed": false
   },
   "id": "fe31b29eab68ad64"
  },
  {
   "cell_type": "code",
   "outputs": [
    {
     "name": "stdout",
     "output_type": "stream",
     "text": [
      "La France a gagne 952 medailles depuis le debut des JO\n"
     ]
    }
   ],
   "source": [
    "# Combien de medailles a gagne la France depuis le debut des JO ?\n",
    "medals_france = medals_df[medals_df['country_name'] == 'France']\n",
    "\n",
    "# On compte le nombre de medailles\n",
    "nb_medals_france = medals_france.shape[0]\n",
    "print(f\"La France a gagne {nb_medals_france} medailles depuis le debut des JO\")"
   ],
   "metadata": {
    "collapsed": false,
    "ExecuteTime": {
     "end_time": "2024-05-27T14:24:44.924055100Z",
     "start_time": "2024-05-27T14:24:44.897486100Z"
    }
   },
   "id": "89e644c7fc5ce413",
   "execution_count": 72
  },
  {
   "cell_type": "code",
   "outputs": [
    {
     "name": "stdout",
     "output_type": "stream",
     "text": [
      "La France a gagne le plus de medailles aux JO de paris-1900 avec 103 medailles\n"
     ]
    }
   ],
   "source": [
    "# Lors de quelles JO la France a-t-elle gagne le plus de medailles ?\n",
    "medals_france_grouped = medals_france.groupby('slug_game').size()\n",
    "\n",
    "# On recupere l'annee des JO ou la France a gagne le plus de medailles\n",
    "most_medals_year = medals_france_grouped.idxmax()\n",
    "most_medals = medals_france_grouped.max()\n",
    "\n",
    "print(f\"La France a gagne le plus de medailles aux JO de {most_medals_year} avec {most_medals} medailles\")"
   ],
   "metadata": {
    "collapsed": false,
    "ExecuteTime": {
     "end_time": "2024-05-27T14:25:07.662598500Z",
     "start_time": "2024-05-27T14:25:07.595107500Z"
    }
   },
   "id": "f7fceacbabe5db33",
   "execution_count": 73
  },
  {
   "cell_type": "code",
   "outputs": [
    {
     "name": "stdout",
     "output_type": "stream",
     "text": [
      "La France a gagne le moins de medailles aux JO de garmisch-partenkirchen-1936 avec 1 medailles\n"
     ]
    }
   ],
   "source": [
    "# Lors de quelles JO la France a-t-elle gagne le moins de medailles ?\n",
    "least_medals_year = medals_france_grouped.idxmin()\n",
    "least_medals = medals_france_grouped.min()\n",
    "\n",
    "print(f\"La France a gagne le moins de medailles aux JO de {least_medals_year} avec {least_medals} medailles\")"
   ],
   "metadata": {
    "collapsed": false,
    "ExecuteTime": {
     "end_time": "2024-05-27T14:25:26.025041600Z",
     "start_time": "2024-05-27T14:25:25.987761800Z"
    }
   },
   "id": "86b66f7e3b4fc519",
   "execution_count": 74
  },
  {
   "cell_type": "code",
   "outputs": [
    {
     "name": "stdout",
     "output_type": "stream",
     "text": [
      "La France est la grande specialiste de Fencing avec 123 medailles\n"
     ]
    }
   ],
   "source": [
    "# Peut-on considérer que la France est la grande spécialiste de certaine(s) discipline(s) sportive(s), comparativement aux autres notions ? Laquelle / Lesquelles ?\n",
    "# On va regarder les medailles gagnees par la France par discipline\n",
    "medals_france_discipline = medals_france.groupby('discipline_title').size()\n",
    "\n",
    "# On recupere la discipline ou la France a gagne le plus de medailles\n",
    "most_medals_discipline = medals_france_discipline.idxmax()\n",
    "most_medals_discipline_count = medals_france_discipline.max()\n",
    "\n",
    "print(f\"La France est la grande specialiste de {most_medals_discipline} avec {most_medals_discipline_count} medailles\")\n"
   ],
   "metadata": {
    "collapsed": false,
    "ExecuteTime": {
     "end_time": "2024-05-27T14:25:55.340246400Z",
     "start_time": "2024-05-27T14:25:55.320418700Z"
    }
   },
   "id": "a6fe00833c5fd9ad",
   "execution_count": 75
  },
  {
   "cell_type": "code",
   "outputs": [
    {
     "name": "stdout",
     "output_type": "stream",
     "text": [
      "Le sport le plus dominant dans les JO est Athletics avec 3080 medailles\n"
     ]
    }
   ],
   "source": [
    "# Quelles sont les sports les plus dominants dans les JO au fil des ans ?\n",
    "medals_discipline = medals_df.groupby('discipline_title').size()\n",
    "\n",
    "# On recupere la discipline la plus dominante\n",
    "most_medals_discipline = medals_discipline.idxmax()\n",
    "most_medals_discipline_count = medals_discipline.max()\n",
    "\n",
    "print(f\"Le sport le plus dominant dans les JO est {most_medals_discipline} avec {most_medals_discipline_count} medailles\")"
   ],
   "metadata": {
    "collapsed": false,
    "ExecuteTime": {
     "end_time": "2024-05-27T14:26:18.110492700Z",
     "start_time": "2024-05-27T14:26:18.084684900Z"
    }
   },
   "id": "84e5199fc00802e1",
   "execution_count": 76
  },
  {
   "cell_type": "code",
   "outputs": [],
   "source": [],
   "metadata": {
    "collapsed": false
   },
   "id": "7e2e937672bfabe9"
  }
 ],
 "metadata": {
  "kernelspec": {
   "display_name": "Python 3",
   "language": "python",
   "name": "python3"
  },
  "language_info": {
   "codemirror_mode": {
    "name": "ipython",
    "version": 2
   },
   "file_extension": ".py",
   "mimetype": "text/x-python",
   "name": "python",
   "nbconvert_exporter": "python",
   "pygments_lexer": "ipython2",
   "version": "2.7.6"
  }
 },
 "nbformat": 4,
 "nbformat_minor": 5
}
