{
 "cells": [
  {
   "cell_type": "markdown",
   "source": [
    "# Database connection"
   ],
   "metadata": {
    "collapsed": false
   },
   "id": "7255d957741b541d"
  },
  {
   "cell_type": "code",
   "outputs": [],
   "source": [
    "from sqlalchemy import create_engine\n",
    "import pandas as pd\n",
    "\n",
    "# Replace credentials and database details accordingly\n",
    "DATABASE_TYPE = 'mysql'\n",
    "DBAPI = 'pymysql'\n",
    "HOST = 'mysql-predict-jo2024.alwaysdata.net'\n",
    "USER = '360558_read_only'\n",
    "PASSWORD = 'Readonly12345'\n",
    "DATABASE = 'predict-jo2024_mia7'\n",
    "\n",
    "# Create database URL and engine\n",
    "DATABASE_URL = f\"{DATABASE_TYPE}+{DBAPI}://{USER}:{PASSWORD}@{HOST}/{DATABASE}\"\n",
    "engine = create_engine(DATABASE_URL)"
   ],
   "metadata": {
    "collapsed": true,
    "ExecuteTime": {
     "end_time": "2024-05-27T12:24:37.651498800Z",
     "start_time": "2024-05-27T12:24:37.607400500Z"
    }
   },
   "id": "initial_id",
   "execution_count": 2
  },
  {
   "cell_type": "markdown",
   "source": [
    "# Data viz"
   ],
   "metadata": {
    "collapsed": false
   },
   "id": "dd85a295cb00f8e4"
  },
  {
   "cell_type": "code",
   "outputs": [
    {
     "data": {
      "text/plain": "   Unnamed: 0 discipline_title    event_title     slug_game participant_type  \\\n0           0          Curling  Mixed Doubles  beijing-2022         GameTeam   \n1           1          Curling  Mixed Doubles  beijing-2022         GameTeam   \n2           2          Curling  Mixed Doubles  beijing-2022         GameTeam   \n3           3          Curling  Mixed Doubles  beijing-2022         GameTeam   \n4           4          Curling  Mixed Doubles  beijing-2022         GameTeam   \n\n  medal_type                                           athletes rank_equal  \\\n0       GOLD  [('Stefania CONSTANTINI', 'https://olympics.co...      False   \n1     SILVER  [('Kristin SKASLIEN', 'https://olympics.com/en...      False   \n2     BRONZE  [('Almida DE VAL', 'https://olympics.com/en/at...      False   \n3             [('Jennifer DODDS', 'https://olympics.com/en/a...      False   \n4             [('Rachel HOMAN', 'https://olympics.com/en/ath...      False   \n\n  rank_position   country_name country_code country_3_letter_code athlete_url  \\\n0             1          Italy           IT                   ITA               \n1             2         Norway           NO                   NOR               \n2             3         Sweden           SE                   SWE               \n3             4  Great Britain           GB                   GBR               \n4             5         Canada           CA                   CAN               \n\n  athlete_full_name value_unit value_type  \n0                                          \n1                                          \n2                                          \n3                                          \n4                                          ",
      "text/html": "<div>\n<style scoped>\n    .dataframe tbody tr th:only-of-type {\n        vertical-align: middle;\n    }\n\n    .dataframe tbody tr th {\n        vertical-align: top;\n    }\n\n    .dataframe thead th {\n        text-align: right;\n    }\n</style>\n<table border=\"1\" class=\"dataframe\">\n  <thead>\n    <tr style=\"text-align: right;\">\n      <th></th>\n      <th>Unnamed: 0</th>\n      <th>discipline_title</th>\n      <th>event_title</th>\n      <th>slug_game</th>\n      <th>participant_type</th>\n      <th>medal_type</th>\n      <th>athletes</th>\n      <th>rank_equal</th>\n      <th>rank_position</th>\n      <th>country_name</th>\n      <th>country_code</th>\n      <th>country_3_letter_code</th>\n      <th>athlete_url</th>\n      <th>athlete_full_name</th>\n      <th>value_unit</th>\n      <th>value_type</th>\n    </tr>\n  </thead>\n  <tbody>\n    <tr>\n      <th>0</th>\n      <td>0</td>\n      <td>Curling</td>\n      <td>Mixed Doubles</td>\n      <td>beijing-2022</td>\n      <td>GameTeam</td>\n      <td>GOLD</td>\n      <td>[('Stefania CONSTANTINI', 'https://olympics.co...</td>\n      <td>False</td>\n      <td>1</td>\n      <td>Italy</td>\n      <td>IT</td>\n      <td>ITA</td>\n      <td></td>\n      <td></td>\n      <td></td>\n      <td></td>\n    </tr>\n    <tr>\n      <th>1</th>\n      <td>1</td>\n      <td>Curling</td>\n      <td>Mixed Doubles</td>\n      <td>beijing-2022</td>\n      <td>GameTeam</td>\n      <td>SILVER</td>\n      <td>[('Kristin SKASLIEN', 'https://olympics.com/en...</td>\n      <td>False</td>\n      <td>2</td>\n      <td>Norway</td>\n      <td>NO</td>\n      <td>NOR</td>\n      <td></td>\n      <td></td>\n      <td></td>\n      <td></td>\n    </tr>\n    <tr>\n      <th>2</th>\n      <td>2</td>\n      <td>Curling</td>\n      <td>Mixed Doubles</td>\n      <td>beijing-2022</td>\n      <td>GameTeam</td>\n      <td>BRONZE</td>\n      <td>[('Almida DE VAL', 'https://olympics.com/en/at...</td>\n      <td>False</td>\n      <td>3</td>\n      <td>Sweden</td>\n      <td>SE</td>\n      <td>SWE</td>\n      <td></td>\n      <td></td>\n      <td></td>\n      <td></td>\n    </tr>\n    <tr>\n      <th>3</th>\n      <td>3</td>\n      <td>Curling</td>\n      <td>Mixed Doubles</td>\n      <td>beijing-2022</td>\n      <td>GameTeam</td>\n      <td></td>\n      <td>[('Jennifer DODDS', 'https://olympics.com/en/a...</td>\n      <td>False</td>\n      <td>4</td>\n      <td>Great Britain</td>\n      <td>GB</td>\n      <td>GBR</td>\n      <td></td>\n      <td></td>\n      <td></td>\n      <td></td>\n    </tr>\n    <tr>\n      <th>4</th>\n      <td>4</td>\n      <td>Curling</td>\n      <td>Mixed Doubles</td>\n      <td>beijing-2022</td>\n      <td>GameTeam</td>\n      <td></td>\n      <td>[('Rachel HOMAN', 'https://olympics.com/en/ath...</td>\n      <td>False</td>\n      <td>5</td>\n      <td>Canada</td>\n      <td>CA</td>\n      <td>CAN</td>\n      <td></td>\n      <td></td>\n      <td></td>\n      <td></td>\n    </tr>\n  </tbody>\n</table>\n</div>"
     },
     "execution_count": 8,
     "metadata": {},
     "output_type": "execute_result"
    }
   ],
   "source": [
    "table_names = ['olympic_athletes', 'olympic_hosts', 'olympic_medals', 'olympic_results']\n",
    "\n",
    "# Create a dictionary of dataframes where keys are table names\n",
    "dataframes = {}\n",
    "for table in table_names:\n",
    "    query = f\"SELECT * FROM {table} LIMIT 100\"\n",
    "    dataframes[table] = pd.read_sql(query, con=engine)\n",
    "\n",
    "# Display the data from the first table\n",
    "dataframes['olympic_results'].head()"
   ],
   "metadata": {
    "collapsed": false,
    "ExecuteTime": {
     "end_time": "2024-05-27T12:27:30.489620600Z",
     "start_time": "2024-05-27T12:27:30.380274200Z"
    }
   },
   "id": "b2fbd4e026fae8e5",
   "execution_count": 8
  },
  {
   "cell_type": "markdown",
   "source": [
    "# Ploting viz"
   ],
   "metadata": {
    "collapsed": false
   },
   "id": "239b0df17b2a9500"
  },
  {
   "cell_type": "code",
   "outputs": [
    {
     "data": {
      "text/plain": "<Figure size 640x480 with 1 Axes>",
      "image/png": "[encoded data removed]"
     },
     "metadata": {},
     "output_type": "display_data"
    }
   ],
   "source": [
    "import matplotlib.pyplot as plt\n",
    "import seaborn as sns\n",
    "\n",
    "if 'medal_type' in dataframes['olympic_results'].columns:\n",
    "    sns.histplot(dataframes['olympic_results']['medal_type'])\n",
    "    plt.show()"
   ],
   "metadata": {
    "collapsed": false,
    "ExecuteTime": {
     "end_time": "2024-05-27T12:27:33.082294600Z",
     "start_time": "2024-05-27T12:27:32.963707800Z"
    }
   },
   "id": "628704aacf4710f2",
   "execution_count": 9
  },
  {
   "cell_type": "markdown",
   "source": [
    "# Evènements marquants aux JO"
   ],
   "metadata": {
    "collapsed": false
   },
   "id": "3bf4f9fe91cdca07"
  },
  {
   "cell_type": "code",
   "outputs": [],
   "source": [],
   "metadata": {
    "collapsed": false,
    "ExecuteTime": {
     "end_time": "2024-05-27T12:26:45.053302500Z",
     "start_time": "2024-05-27T12:26:45.052303500Z"
    }
   },
   "id": "9cbff7596f8f72ee"
  }
 ],
 "metadata": {
  "kernelspec": {
   "display_name": "Python 3",
   "language": "python",
   "name": "python3"
  },
  "language_info": {
   "codemirror_mode": {
    "name": "ipython",
    "version": 2
   },
   "file_extension": ".py",
   "mimetype": "text/x-python",
   "name": "python",
   "nbconvert_exporter": "python",
   "pygments_lexer": "ipython2",
   "version": "2.7.6"
  }
 },
 "nbformat": 4,
 "nbformat_minor": 5
}
