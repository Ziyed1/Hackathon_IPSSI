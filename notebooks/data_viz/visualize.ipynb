{
 "cells": [
  {
   "cell_type": "markdown",
   "source": [
    "# Database connection"
   ],
   "metadata": {
    "collapsed": false
   },
   "id": "7255d957741b541d"
  },
  {
   "cell_type": "code",
   "outputs": [],
   "source": [
    "from sqlalchemy import create_engine\n",
    "import pandas as pd\n",
    "\n",
    "# Replace credentials and database details accordingly\n",
    "DATABASE_TYPE = 'mysql'\n",
    "DBAPI = 'pymysql'\n",
    "HOST = 'mysql-predict-jo2024.alwaysdata.net'\n",
    "USER = '360558_read_only'\n",
    "PASSWORD = 'Readonly12345'\n",
    "DATABASE = 'your_database_name'  # your database name, you might need to find out the exact name\n",
    "\n",
    "# Create database URL and engine\n",
    "DATABASE_URL = f\"{DATABASE_TYPE}+{DBAPI}://{USER}:{PASSWORD}@{HOST}/{DATABASE}\"\n",
    "engine = create_engine(DATABASE_URL)"
   ],
   "metadata": {
    "collapsed": true
   },
   "id": "initial_id",
   "execution_count": 0
  },
  {
   "cell_type": "markdown",
   "source": [
    "# Data viz"
   ],
   "metadata": {
    "collapsed": false
   },
   "id": "dd85a295cb00f8e4"
  },
  {
   "cell_type": "code",
   "outputs": [],
   "source": [
    "table_names = ['table1', 'table2', 'table3', 'table4']\n",
    "\n",
    "# Create a dictionary of dataframes where keys are table names\n",
    "dataframes = {}\n",
    "for table in table_names:\n",
    "    query = f\"SELECT * FROM {table}\"\n",
    "    dataframes[table] = pd.read_sql(query, con=engine)\n",
    "\n",
    "# Display the data from the first table\n",
    "dataframes['table1'].head()"
   ],
   "metadata": {
    "collapsed": false
   },
   "id": "b2fbd4e026fae8e5"
  },
  {
   "cell_type": "markdown",
   "source": [
    "# Ploting viz"
   ],
   "metadata": {
    "collapsed": false
   },
   "id": "239b0df17b2a9500"
  },
  {
   "cell_type": "code",
   "outputs": [],
   "source": [
    "import matplotlib.pyplot as plt\n",
    "import seaborn as sns\n",
    "\n",
    "if 'column_name' in dataframes['table1'].columns:\n",
    "    sns.histplot(dataframes['table1']['column_name'])\n",
    "    plt.show()"
   ],
   "metadata": {
    "collapsed": false
   },
   "id": "628704aacf4710f2"
  }
 ],
 "metadata": {
  "kernelspec": {
   "display_name": "Python 3",
   "language": "python",
   "name": "python3"
  },
  "language_info": {
   "codemirror_mode": {
    "name": "ipython",
    "version": 2
   },
   "file_extension": ".py",
   "mimetype": "text/x-python",
   "name": "python",
   "nbconvert_exporter": "python",
   "pygments_lexer": "ipython2",
   "version": "2.7.6"
  }
 },
 "nbformat": 4,
 "nbformat_minor": 5
}
