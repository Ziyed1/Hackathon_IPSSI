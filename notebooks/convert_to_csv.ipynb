{
 "nbformat": 4,
 "nbformat_minor": 0,
 "metadata": {
  "colab": {
   "provenance": []
  },
  "kernelspec": {
   "name": "python3",
   "language": "python",
   "display_name": "Python 3 (ipykernel)"
  },
  "language_info": {
   "name": "python"
  }
 },
 "cells": [
  {
   "cell_type": "markdown",
   "source": [
    "# Convert all the files to CSV"
   ],
   "metadata": {
    "id": "zTXHiYGOZiEg"
   }
  },
  {
   "cell_type": "code",
   "outputs": [],
   "source": [
    "import pandas as pd\n",
    "\n",
    "# Load HTML\n",
    "html = '../olympic_results.html'\n",
    "\n",
    "# Convert to CSV\n",
    "df = pd.read_html(html)[0]\n",
    "df.to_csv('../csv/olympic_results.csv', index=False)"
   ],
   "metadata": {
    "id": "JUOuC3AmXiyE",
    "colab": {
     "base_uri": "https://localhost:8080/"
    },
    "outputId": "1c13c283-13eb-4edb-ea48-eaa2e52e73e0",
    "ExecuteTime": {
     "end_time": "2024-05-27T10:29:36.286124500Z",
     "start_time": "2024-05-27T10:29:11.408805300Z"
    }
   },
   "execution_count": 13
  },
  {
   "cell_type": "code",
   "outputs": [],
   "source": [
    "# Load xlsx\n",
    "xlsx = '../olympic_medals.xlsx'\n",
    "\n",
    "# Convert to CSV\n",
    "olympic_data = pd.read_excel(xlsx)\n",
    "olympic_data.to_csv('../csv/olympic_medals.csv', index=False)"
   ],
   "metadata": {
    "id": "lE81N5z8aMIv",
    "colab": {
     "base_uri": "https://localhost:8080/",
     "height": 321
    },
    "outputId": "46d968a9-6b2a-4aee-f0c7-25a38896eaec",
    "ExecuteTime": {
     "end_time": "2024-05-27T10:29:42.184111400Z",
     "start_time": "2024-05-27T10:29:36.288125800Z"
    }
   },
   "execution_count": 14
  },
  {
   "cell_type": "code",
   "source": [
    "# Load JSON\n",
    "json_file_path = '../olympic_athletes.json'\n",
    "\n",
    "# Convert to JSON\n",
    "df = pd.read_json(json_file_path)\n",
    "df.to_csv('../csv/olympic_athletes.csv', index=False)"
   ],
   "metadata": {
    "id": "mcmHR5FIdaOf",
    "ExecuteTime": {
     "end_time": "2024-05-27T10:29:43.068105700Z",
     "start_time": "2024-05-27T10:29:42.184111400Z"
    }
   },
   "execution_count": 15,
   "outputs": []
  },
  {
   "cell_type": "code",
   "outputs": [],
   "source": [
    "# Load XML\n",
    "xml_file_path = '../olympic_hosts.xml'\n",
    "\n",
    "# Convert to CSV\n",
    "df = pd.read_xml(xml_file_path)\n",
    "df.to_csv('../csv/olympic_hosts.csv', index=False)"
   ],
   "metadata": {
    "collapsed": false,
    "ExecuteTime": {
     "end_time": "2024-05-27T10:30:29.397000500Z",
     "start_time": "2024-05-27T10:30:29.355604Z"
    }
   },
   "execution_count": 18
  }
 ]
}
