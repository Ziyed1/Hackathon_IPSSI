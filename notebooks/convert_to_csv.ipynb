{
 "nbformat": 4,
 "nbformat_minor": 0,
 "metadata": {
  "colab": {
   "provenance": []
  },
  "kernelspec": {
   "name": "python3",
   "language": "python",
   "display_name": "Python 3 (ipykernel)"
  },
  "language_info": {
   "name": "python"
  }
 },
 "cells": [
  {
   "cell_type": "markdown",
   "source": [
    "# Convert all the files to CSV"
   ],
   "metadata": {
    "id": "zTXHiYGOZiEg"
   }
  },
  {
   "cell_type": "code",
   "outputs": [],
   "source": [
    "import pandas as pd\n",
    "\n",
    "# Load HTML\n",
    "html = '../olympic_results.html'\n",
    "\n",
    "# Convert to CSV\n",
    "df = pd.read_html(html)[0]\n",
    "df.to_csv('../csv/olympic_results.csv', index=False)"
   ],
   "metadata": {
    "id": "JUOuC3AmXiyE",
    "colab": {
     "base_uri": "https://localhost:8080/"
    },
    "outputId": "1c13c283-13eb-4edb-ea48-eaa2e52e73e0",
    "ExecuteTime": {
     "end_time": "2024-05-27T10:33:48.608630300Z",
     "start_time": "2024-05-27T10:33:24.034716900Z"
    }
   },
   "execution_count": 19
  },
  {
   "cell_type": "code",
   "outputs": [],
   "source": [
    "# Load xlsx\n",
    "xlsx = '../olympic_medals.xlsx'\n",
    "\n",
    "# Convert to CSV\n",
    "olympic_data = pd.read_excel(xlsx)\n",
    "olympic_data.to_csv('../csv/olympic_medals.csv', index=False)"
   ],
   "metadata": {
    "id": "lE81N5z8aMIv",
    "colab": {
     "base_uri": "https://localhost:8080/",
     "height": 321
    },
    "outputId": "46d968a9-6b2a-4aee-f0c7-25a38896eaec",
    "ExecuteTime": {
     "end_time": "2024-05-27T10:33:54.125093500Z",
     "start_time": "2024-05-27T10:33:48.612146900Z"
    }
   },
   "execution_count": 20
  },
  {
   "cell_type": "code",
   "source": [
    "# Load JSON\n",
    "json_file_path = '../olympic_athletes.json'\n",
    "df = pd.read_json(json_file_path)\n",
    "\n",
    "# Convert nulls to a uniform format, here as an empty string\n",
    "df.fillna('', inplace=True)\n",
    "\n",
    "# Clean and preprocess text fields to ensure they do not break CSV format\n",
    "def clean_text(text):\n",
    "    # Strip leading/trailing whitespace and replace problematic characters\n",
    "    text = text.strip()\n",
    "    text = text.replace('\\n', ' ')  # Replace newlines with spaces\n",
    "    text = text.replace('\"', \"'\")  # Replace double quotes with single quotes\n",
    "    return text\n",
    "\n",
    "# Apply the cleaning function to text columns\n",
    "df['athlete_medals'] = df['athlete_medals'].apply(clean_text)\n",
    "df['bio'] = df['bio'].apply(clean_text)\n",
    "\n",
    "# Export to CSV with quoting to handle special characters\n",
    "df.to_csv('../csv/olympic_athletes.csv', index=False, quoting=0)"
   ],
   "metadata": {
    "id": "mcmHR5FIdaOf",
    "ExecuteTime": {
     "end_time": "2024-05-27T10:44:03.359744700Z",
     "start_time": "2024-05-27T10:44:02.354619800Z"
    }
   },
   "execution_count": 36,
   "outputs": [
    {
     "name": "stderr",
     "output_type": "stream",
     "text": [
      "C:\\Users\\tcaron\\AppData\\Local\\Temp\\ipykernel_1824\\432925750.py:6: FutureWarning: Setting an item of incompatible dtype is deprecated and will raise an error in a future version of pandas. Value '' has dtype incompatible with float64, please explicitly cast to a compatible dtype first.\n",
      "  df.fillna('', inplace=True)\n"
     ]
    }
   ]
  },
  {
   "cell_type": "code",
   "outputs": [],
   "source": [
    "# Load XML\n",
    "xml_file_path = '../olympic_hosts.xml'\n",
    "\n",
    "# Convert to CSV\n",
    "df = pd.read_xml(xml_file_path)\n",
    "df.to_csv('../csv/olympic_hosts.csv', index=False)"
   ],
   "metadata": {
    "collapsed": false,
    "ExecuteTime": {
     "end_time": "2024-05-27T10:33:55.104834100Z",
     "start_time": "2024-05-27T10:33:55.074688800Z"
    }
   },
   "execution_count": 22
  }
 ]
}
